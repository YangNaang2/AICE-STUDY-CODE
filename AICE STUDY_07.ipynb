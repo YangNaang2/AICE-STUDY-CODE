{
 "cells": [
  {
   "cell_type": "markdown",
   "id": "714c665c-88e4-4c93-9315-4509cec56741",
   "metadata": {},
   "source": [
    "## 건강 검진 데이터를 바탕으로 lDL 콜레스트롤 수치를 예측해보는 선형 회귀 모델"
   ]
  },
  {
   "cell_type": "markdown",
   "id": "ba62ab7d-09cd-4f79-ade3-a20055e22009",
   "metadata": {},
   "source": [
    "### 가설 1. 치아 관련 문항은 콜레스트롤과 상관이 없을 것이다."
   ]
  },
  {
   "cell_type": "code",
   "execution_count": 22,
   "id": "12d03203-8093-4c3d-bea4-d40e41c4e0a4",
   "metadata": {},
   "outputs": [
    {
     "data": {
      "text/html": [
       "<div>\n",
       "<style scoped>\n",
       "    .dataframe tbody tr th:only-of-type {\n",
       "        vertical-align: middle;\n",
       "    }\n",
       "\n",
       "    .dataframe tbody tr th {\n",
       "        vertical-align: top;\n",
       "    }\n",
       "\n",
       "    .dataframe thead th {\n",
       "        text-align: right;\n",
       "    }\n",
       "</style>\n",
       "<table border=\"1\" class=\"dataframe\">\n",
       "  <thead>\n",
       "    <tr style=\"text-align: right;\">\n",
       "      <th></th>\n",
       "      <th>기준년도</th>\n",
       "      <th>가입자일련번호</th>\n",
       "      <th>시도코드</th>\n",
       "      <th>성별</th>\n",
       "      <th>연령대코드(5세단위)</th>\n",
       "      <th>신장(5cm단위)</th>\n",
       "      <th>체중(5kg단위)</th>\n",
       "      <th>허리둘레</th>\n",
       "      <th>시력(좌)</th>\n",
       "      <th>시력(우)</th>\n",
       "      <th>청력(좌)</th>\n",
       "      <th>청력(우)</th>\n",
       "      <th>수축기혈압</th>\n",
       "      <th>이완기혈압</th>\n",
       "      <th>식전혈당(공복혈당)</th>\n",
       "      <th>총콜레스테롤</th>\n",
       "      <th>트리글리세라이드</th>\n",
       "      <th>HDL콜레스테롤</th>\n",
       "      <th>LDL콜레스테롤</th>\n",
       "      <th>혈색소</th>\n",
       "      <th>요단백</th>\n",
       "      <th>혈청크레아티닌</th>\n",
       "      <th>혈청지오티(AST)</th>\n",
       "      <th>혈청지피티(ALT)</th>\n",
       "      <th>감마지티피</th>\n",
       "      <th>흡연상태</th>\n",
       "      <th>음주여부</th>\n",
       "      <th>구강검진수검여부</th>\n",
       "      <th>치아우식증유무</th>\n",
       "      <th>치석</th>\n",
       "    </tr>\n",
       "  </thead>\n",
       "  <tbody>\n",
       "    <tr>\n",
       "      <th>0</th>\n",
       "      <td>2022</td>\n",
       "      <td>702763</td>\n",
       "      <td>41</td>\n",
       "      <td>2</td>\n",
       "      <td>14</td>\n",
       "      <td>160</td>\n",
       "      <td>75</td>\n",
       "      <td>89.0</td>\n",
       "      <td>1.0</td>\n",
       "      <td>1.0</td>\n",
       "      <td>1.0</td>\n",
       "      <td>1.0</td>\n",
       "      <td>127.0</td>\n",
       "      <td>73.0</td>\n",
       "      <td>84.0</td>\n",
       "      <td>NaN</td>\n",
       "      <td>NaN</td>\n",
       "      <td>NaN</td>\n",
       "      <td>NaN</td>\n",
       "      <td>14.8</td>\n",
       "      <td>1.0</td>\n",
       "      <td>0.8</td>\n",
       "      <td>25.0</td>\n",
       "      <td>20.0</td>\n",
       "      <td>15.0</td>\n",
       "      <td>1.0</td>\n",
       "      <td>0.0</td>\n",
       "      <td>0</td>\n",
       "      <td>NaN</td>\n",
       "      <td>NaN</td>\n",
       "    </tr>\n",
       "    <tr>\n",
       "      <th>1</th>\n",
       "      <td>2022</td>\n",
       "      <td>765435</td>\n",
       "      <td>41</td>\n",
       "      <td>2</td>\n",
       "      <td>9</td>\n",
       "      <td>150</td>\n",
       "      <td>45</td>\n",
       "      <td>68.0</td>\n",
       "      <td>1.0</td>\n",
       "      <td>1.0</td>\n",
       "      <td>1.0</td>\n",
       "      <td>1.0</td>\n",
       "      <td>127.0</td>\n",
       "      <td>75.0</td>\n",
       "      <td>85.0</td>\n",
       "      <td>NaN</td>\n",
       "      <td>NaN</td>\n",
       "      <td>NaN</td>\n",
       "      <td>NaN</td>\n",
       "      <td>13.1</td>\n",
       "      <td>1.0</td>\n",
       "      <td>0.8</td>\n",
       "      <td>19.0</td>\n",
       "      <td>10.0</td>\n",
       "      <td>7.0</td>\n",
       "      <td>1.0</td>\n",
       "      <td>1.0</td>\n",
       "      <td>0</td>\n",
       "      <td>NaN</td>\n",
       "      <td>NaN</td>\n",
       "    </tr>\n",
       "    <tr>\n",
       "      <th>2</th>\n",
       "      <td>2022</td>\n",
       "      <td>343621</td>\n",
       "      <td>41</td>\n",
       "      <td>2</td>\n",
       "      <td>13</td>\n",
       "      <td>150</td>\n",
       "      <td>60</td>\n",
       "      <td>78.8</td>\n",
       "      <td>1.0</td>\n",
       "      <td>1.0</td>\n",
       "      <td>1.0</td>\n",
       "      <td>1.0</td>\n",
       "      <td>135.0</td>\n",
       "      <td>81.0</td>\n",
       "      <td>105.0</td>\n",
       "      <td>NaN</td>\n",
       "      <td>NaN</td>\n",
       "      <td>NaN</td>\n",
       "      <td>NaN</td>\n",
       "      <td>13.0</td>\n",
       "      <td>1.0</td>\n",
       "      <td>0.8</td>\n",
       "      <td>17.0</td>\n",
       "      <td>15.0</td>\n",
       "      <td>15.0</td>\n",
       "      <td>1.0</td>\n",
       "      <td>1.0</td>\n",
       "      <td>0</td>\n",
       "      <td>NaN</td>\n",
       "      <td>NaN</td>\n",
       "    </tr>\n",
       "    <tr>\n",
       "      <th>3</th>\n",
       "      <td>2022</td>\n",
       "      <td>3393534</td>\n",
       "      <td>41</td>\n",
       "      <td>2</td>\n",
       "      <td>6</td>\n",
       "      <td>160</td>\n",
       "      <td>50</td>\n",
       "      <td>69.0</td>\n",
       "      <td>1.0</td>\n",
       "      <td>1.0</td>\n",
       "      <td>1.0</td>\n",
       "      <td>1.0</td>\n",
       "      <td>109.0</td>\n",
       "      <td>70.0</td>\n",
       "      <td>81.0</td>\n",
       "      <td>NaN</td>\n",
       "      <td>NaN</td>\n",
       "      <td>NaN</td>\n",
       "      <td>NaN</td>\n",
       "      <td>13.4</td>\n",
       "      <td>1.0</td>\n",
       "      <td>0.8</td>\n",
       "      <td>25.0</td>\n",
       "      <td>16.0</td>\n",
       "      <td>13.0</td>\n",
       "      <td>1.0</td>\n",
       "      <td>1.0</td>\n",
       "      <td>0</td>\n",
       "      <td>NaN</td>\n",
       "      <td>NaN</td>\n",
       "    </tr>\n",
       "    <tr>\n",
       "      <th>4</th>\n",
       "      <td>2022</td>\n",
       "      <td>1716951</td>\n",
       "      <td>41</td>\n",
       "      <td>2</td>\n",
       "      <td>7</td>\n",
       "      <td>160</td>\n",
       "      <td>55</td>\n",
       "      <td>75.0</td>\n",
       "      <td>1.0</td>\n",
       "      <td>1.0</td>\n",
       "      <td>1.0</td>\n",
       "      <td>1.0</td>\n",
       "      <td>110.0</td>\n",
       "      <td>67.0</td>\n",
       "      <td>79.0</td>\n",
       "      <td>NaN</td>\n",
       "      <td>NaN</td>\n",
       "      <td>NaN</td>\n",
       "      <td>NaN</td>\n",
       "      <td>14.7</td>\n",
       "      <td>1.0</td>\n",
       "      <td>0.8</td>\n",
       "      <td>22.0</td>\n",
       "      <td>22.0</td>\n",
       "      <td>15.0</td>\n",
       "      <td>1.0</td>\n",
       "      <td>1.0</td>\n",
       "      <td>0</td>\n",
       "      <td>NaN</td>\n",
       "      <td>NaN</td>\n",
       "    </tr>\n",
       "  </tbody>\n",
       "</table>\n",
       "</div>"
      ],
      "text/plain": [
       "   기준년도  가입자일련번호  시도코드  성별  연령대코드(5세단위)  신장(5cm단위)  체중(5kg단위)  허리둘레  시력(좌)  \\\n",
       "0  2022   702763    41   2           14        160         75  89.0    1.0   \n",
       "1  2022   765435    41   2            9        150         45  68.0    1.0   \n",
       "2  2022   343621    41   2           13        150         60  78.8    1.0   \n",
       "3  2022  3393534    41   2            6        160         50  69.0    1.0   \n",
       "4  2022  1716951    41   2            7        160         55  75.0    1.0   \n",
       "\n",
       "   시력(우)  청력(좌)  청력(우)  수축기혈압  이완기혈압  식전혈당(공복혈당)  총콜레스테롤  트리글리세라이드  HDL콜레스테롤  \\\n",
       "0    1.0    1.0    1.0  127.0   73.0        84.0     NaN       NaN       NaN   \n",
       "1    1.0    1.0    1.0  127.0   75.0        85.0     NaN       NaN       NaN   \n",
       "2    1.0    1.0    1.0  135.0   81.0       105.0     NaN       NaN       NaN   \n",
       "3    1.0    1.0    1.0  109.0   70.0        81.0     NaN       NaN       NaN   \n",
       "4    1.0    1.0    1.0  110.0   67.0        79.0     NaN       NaN       NaN   \n",
       "\n",
       "   LDL콜레스테롤   혈색소  요단백  혈청크레아티닌  혈청지오티(AST)  혈청지피티(ALT)  감마지티피  흡연상태  음주여부  \\\n",
       "0       NaN  14.8  1.0      0.8        25.0        20.0   15.0   1.0   0.0   \n",
       "1       NaN  13.1  1.0      0.8        19.0        10.0    7.0   1.0   1.0   \n",
       "2       NaN  13.0  1.0      0.8        17.0        15.0   15.0   1.0   1.0   \n",
       "3       NaN  13.4  1.0      0.8        25.0        16.0   13.0   1.0   1.0   \n",
       "4       NaN  14.7  1.0      0.8        22.0        22.0   15.0   1.0   1.0   \n",
       "\n",
       "   구강검진수검여부  치아우식증유무  치석  \n",
       "0         0      NaN NaN  \n",
       "1         0      NaN NaN  \n",
       "2         0      NaN NaN  \n",
       "3         0      NaN NaN  \n",
       "4         0      NaN NaN  "
      ]
     },
     "execution_count": 22,
     "metadata": {},
     "output_type": "execute_result"
    }
   ],
   "source": [
    "import pandas as pd\n",
    "\n",
    "# 데이터 불러오기\n",
    "df = pd.read_csv(\"국민건강보험공단_건강검진정보_20221231.csv\", encoding='cp949')\n",
    "\n",
    "#pandas display 옵션조정을 통해 View 범위 확장하기\n",
    "pd.set_option('display.max_columns', None)\n",
    "\n",
    "#데이터 확인하기\n",
    "df.head()"
   ]
  },
  {
   "cell_type": "code",
   "execution_count": 23,
   "id": "fc06d7dc-3a50-40b4-bdcf-2d85cb9e47b4",
   "metadata": {},
   "outputs": [
    {
     "name": "stdout",
     "output_type": "stream",
     "text": [
      "기준년도 칼럼 확인\n"
     ]
    },
    {
     "data": {
      "text/plain": [
       "2022    1000000\n",
       "Name: 기준년도, dtype: int64"
      ]
     },
     "execution_count": 23,
     "metadata": {},
     "output_type": "execute_result"
    }
   ],
   "source": [
    "#가설을 참고하여 데이터 일부 삭제하기\n",
    "# 시력, 청력, 치아 관련 칼럼은 관계없다는 가정으로 열 제거하기\n",
    "df.drop(['치아우식증유무', '치석', '시력(좌)', '시력(우)', '청력(좌)', '청력(우)', '구강검진수검여부'], axis=1, inplace=True)\n",
    "\n",
    "#기준년도 칼럼 확인하기(모두 '2022' 동일 값이므로 '기준년도' 칼럼 삭제)\n",
    "print(\"기준년도 칼럼 확인\")\n",
    "df.기준년도.value_counts()"
   ]
  },
  {
   "cell_type": "code",
   "execution_count": 24,
   "id": "1e5bc078-bb9b-4308-9b8a-34e724dca63d",
   "metadata": {},
   "outputs": [
    {
     "name": "stdout",
     "output_type": "stream",
     "text": [
      "가입자 일련번호 칼럼 확인\n"
     ]
    },
    {
     "data": {
      "text/plain": [
       "702763     1\n",
       "3341688    1\n",
       "4871195    1\n",
       "4610838    1\n",
       "3997948    1\n",
       "          ..\n",
       "3308368    1\n",
       "371852     1\n",
       "3479774    1\n",
       "3645306    1\n",
       "4901217    1\n",
       "Name: 가입자일련번호, Length: 1000000, dtype: int64"
      ]
     },
     "execution_count": 24,
     "metadata": {},
     "output_type": "execute_result"
    }
   ],
   "source": [
    "#가입자 일련번호 칼럼 확인하기(모두 unique한 값으로 확인되어 '가입자 일련번호' 칼럼 삭제)\n",
    "print(\"가입자 일련번호 칼럼 확인\")\n",
    "df[\"가입자일련번호\"].value_counts()"
   ]
  },
  {
   "cell_type": "code",
   "execution_count": 25,
   "id": "4203a191-af3d-407d-9288-02c153d34248",
   "metadata": {},
   "outputs": [
    {
     "name": "stdout",
     "output_type": "stream",
     "text": [
      "성별 칼럼 확인\n"
     ]
    },
    {
     "data": {
      "text/plain": [
       "1    515301\n",
       "2    484699\n",
       "Name: 성별, dtype: int64"
      ]
     },
     "execution_count": 25,
     "metadata": {},
     "output_type": "execute_result"
    }
   ],
   "source": [
    "#성별코드 칼럼 확인하기\n",
    "print(\"성별 칼럼 확인\")\n",
    "df.성별.value_counts()"
   ]
  },
  {
   "cell_type": "code",
   "execution_count": 26,
   "id": "8ed50130-8dfd-4981-9040-24899ada917a",
   "metadata": {},
   "outputs": [
    {
     "name": "stdout",
     "output_type": "stream",
     "text": [
      "학습 데이터 확인\n"
     ]
    },
    {
     "data": {
      "text/html": [
       "<div>\n",
       "<style scoped>\n",
       "    .dataframe tbody tr th:only-of-type {\n",
       "        vertical-align: middle;\n",
       "    }\n",
       "\n",
       "    .dataframe tbody tr th {\n",
       "        vertical-align: top;\n",
       "    }\n",
       "\n",
       "    .dataframe thead th {\n",
       "        text-align: right;\n",
       "    }\n",
       "</style>\n",
       "<table border=\"1\" class=\"dataframe\">\n",
       "  <thead>\n",
       "    <tr style=\"text-align: right;\">\n",
       "      <th></th>\n",
       "      <th>연령대코드(5세단위)</th>\n",
       "      <th>신장(5cm단위)</th>\n",
       "      <th>체중(5kg단위)</th>\n",
       "      <th>허리둘레</th>\n",
       "      <th>수축기혈압</th>\n",
       "      <th>이완기혈압</th>\n",
       "      <th>식전혈당(공복혈당)</th>\n",
       "      <th>총콜레스테롤</th>\n",
       "      <th>트리글리세라이드</th>\n",
       "      <th>HDL콜레스테롤</th>\n",
       "      <th>LDL콜레스테롤</th>\n",
       "      <th>혈색소</th>\n",
       "      <th>요단백</th>\n",
       "      <th>혈청크레아티닌</th>\n",
       "      <th>혈청지오티(AST)</th>\n",
       "      <th>혈청지피티(ALT)</th>\n",
       "      <th>감마지티피</th>\n",
       "      <th>흡연상태</th>\n",
       "      <th>음주여부</th>\n",
       "    </tr>\n",
       "  </thead>\n",
       "  <tbody>\n",
       "    <tr>\n",
       "      <th>654336</th>\n",
       "      <td>13</td>\n",
       "      <td>165</td>\n",
       "      <td>60</td>\n",
       "      <td>80.0</td>\n",
       "      <td>118.0</td>\n",
       "      <td>68.0</td>\n",
       "      <td>103.0</td>\n",
       "      <td>243.0</td>\n",
       "      <td>120.0</td>\n",
       "      <td>85.0</td>\n",
       "      <td>134.0</td>\n",
       "      <td>14.0</td>\n",
       "      <td>1.0</td>\n",
       "      <td>1.0</td>\n",
       "      <td>22.0</td>\n",
       "      <td>17.0</td>\n",
       "      <td>34.0</td>\n",
       "      <td>2.0</td>\n",
       "      <td>1.0</td>\n",
       "    </tr>\n",
       "  </tbody>\n",
       "</table>\n",
       "</div>"
      ],
      "text/plain": [
       "        연령대코드(5세단위)  신장(5cm단위)  체중(5kg단위)  허리둘레  수축기혈압  이완기혈압  식전혈당(공복혈당)  \\\n",
       "654336           13        165         60  80.0  118.0   68.0       103.0   \n",
       "\n",
       "        총콜레스테롤  트리글리세라이드  HDL콜레스테롤  LDL콜레스테롤   혈색소  요단백  혈청크레아티닌  혈청지오티(AST)  \\\n",
       "654336   243.0     120.0      85.0     134.0  14.0  1.0      1.0        22.0   \n",
       "\n",
       "        혈청지피티(ALT)  감마지티피  흡연상태  음주여부  \n",
       "654336        17.0   34.0   2.0   1.0  "
      ]
     },
     "execution_count": 26,
     "metadata": {},
     "output_type": "execute_result"
    }
   ],
   "source": [
    "#불필요한 데이터 삭제하기\n",
    "df.drop(['기준년도', '가입자일련번호', '성별', '시도코드'], axis=1, inplace=True)\n",
    "\n",
    "#별도의 test 데이터 추출하기\n",
    "test = df[df['LDL콜레스테롤'].isnull()]\n",
    "\n",
    "#NaN 데이터 행 단위로 삭제하기\n",
    "train = df.dropna(axis=0)\n",
    "\n",
    "#학습 데이터 확인하기\n",
    "print(\"학습 데이터 확인\")\n",
    "train.head(1)"
   ]
  },
  {
   "cell_type": "code",
   "execution_count": 27,
   "id": "d8bf0a0e-afa4-4f61-9541-62482c9700d0",
   "metadata": {},
   "outputs": [
    {
     "name": "stdout",
     "output_type": "stream",
     "text": [
      "학습/검증 데이터 확인\n",
      "(225877, 18) (225877,) (111253, 18) (111253,)\n"
     ]
    }
   ],
   "source": [
    "#정답 데이터 생성하기\n",
    "y = train['LDL콜레스테롤']\n",
    "\n",
    "#학습 데이터 생성하기\n",
    "x = train.drop('LDL콜레스테롤', axis=1)\n",
    "\n",
    "#validation set 추출을 위한 train_test_split 라이브러리 불러오기\n",
    "from sklearn.model_selection import train_test_split\n",
    "\n",
    "#scikit learn 예시 코드 비율대로 불러오기\n",
    "x_train, x_test, y_train, y_test = train_test_split(x, y, test_size=0.33, random_state=42)\n",
    "\n",
    "#학습/검증 데이터 확인하기\n",
    "print(\"학습/검증 데이터 확인\")\n",
    "print(x_train.shape, y_train.shape, x_test.shape, y_test.shape)"
   ]
  },
  {
   "cell_type": "code",
   "execution_count": 29,
   "id": "c76babba-829a-4e19-a140-2fd50c8c6e10",
   "metadata": {},
   "outputs": [],
   "source": [
    "# 선형 회귀 학습 및 추론하기"
   ]
  },
  {
   "cell_type": "code",
   "execution_count": 31,
   "id": "ea431a3f-3fb2-42a4-a036-58073c273c53",
   "metadata": {},
   "outputs": [
    {
     "name": "stdout",
     "output_type": "stream",
     "text": [
      "기울기 및 절편 확인\n",
      "기울기 확인 coef = [-0.00211547  0.00838286  0.00403974  0.02586561 -0.00362227 -0.00478919\n",
      " -0.00181933  0.98893442 -0.18998983 -0.90963871  0.04906444  0.04162509\n",
      "  0.14300268 -0.00654572  0.00520954 -0.00195242  0.08355305 -0.22383297]\n",
      "절편 확인 intercept = -7.701480658594477\n"
     ]
    }
   ],
   "source": [
    "from sklearn.linear_model import LinearRegression\n",
    "reg = LinearRegression()\n",
    "\n",
    "#학습하기\n",
    "reg.fit(x_train, y_train)\n",
    "#기울기와 절편 확인하기\n",
    "print(f'''기울기 및 절편 확인\n",
    "기울기 확인 coef = {reg.coef_}\n",
    "절편 확인 intercept = {reg.intercept_}''')\n"
   ]
  },
  {
   "cell_type": "code",
   "execution_count": 33,
   "id": "4b98ce23-e768-44fa-97db-ee962c26c3af",
   "metadata": {},
   "outputs": [
    {
     "name": "stdout",
     "output_type": "stream",
     "text": [
      "전체에 대해서 가중치 확인\n",
      "연령대코드(5세단위) = -0.0021154736576941484\n",
      "신장(5cm단위) = 0.008382856140952737\n",
      "체중(5kg단위) = 0.004039744108514473\n",
      "허리둘레 = 0.02586561239950298\n",
      "수축기혈압 = -0.003622269066452875\n",
      "이완기혈압 = -0.004789193384671206\n",
      "식전혈당(공복혈당) = -0.0018193256235434347\n",
      "총콜레스테롤 = 0.9889344164631596\n",
      "트리글리세라이드 = -0.18998982863839814\n",
      "HDL콜레스테롤 = -0.9096387125982947\n",
      "혈색소 = 0.04906444369407475\n",
      "요단백 = 0.04162509002268398\n",
      "혈청크레아티닌 = 0.14300268237983213\n",
      "혈청지오티(AST) = -0.006545718172645947\n",
      "혈청지피티(ALT) = 0.005209544960069898\n",
      "감마지티피 = -0.0019524161439548073\n",
      "흡연상태 = 0.08355304678253961\n",
      "음주여부 = -0.22383296735907007\n"
     ]
    }
   ],
   "source": [
    "#각각 데이터에 대해 가중치 확인하기\n",
    "print(\"전체에 대해서 가중치 확인\")\n",
    "for index, columns in enumerate(x_train.columns):\n",
    "    print(f\"{columns} = {reg.coef_[index]}\")"
   ]
  },
  {
   "cell_type": "code",
   "execution_count": 34,
   "id": "8d1131b5-b2c3-4d59-9922-5e02595b958f",
   "metadata": {},
   "outputs": [],
   "source": [
    "#예측을 통한 최종 검증하기"
   ]
  },
  {
   "cell_type": "code",
   "execution_count": 35,
   "id": "d208c3d2-13f7-4a1b-99cf-7a98ba2bbb40",
   "metadata": {},
   "outputs": [
    {
     "name": "stdout",
     "output_type": "stream",
     "text": [
      "주요 Feature 삭제 전 rmse = 4.293\n"
     ]
    }
   ],
   "source": [
    "#예측하기\n",
    "y_pred = reg.predict(x_test)\n",
    "\n",
    "#결과 검증을 위해 MSE 라이브러리 불러오기\n",
    "#최종적으로는 RMSE 사용하기\n",
    "from sklearn.metrics import mean_squared_error\n",
    "\n",
    "#MSE 라이브러리에서 RMSE는 squared 옵션을 False로 설정\n",
    "rmse = mean_squared_error(y_test, y_pred, squared=False)\n",
    "\n",
    "#주요 Feature 삭제 전 rmse 확인하기\n",
    "print(f'''주요 Feature 삭제 전 rmse = {round(rmse,3)}''')"
   ]
  },
  {
   "cell_type": "code",
   "execution_count": 36,
   "id": "51c65b9a-cbac-4823-b6d6-f6b32ddb7311",
   "metadata": {},
   "outputs": [],
   "source": [
    "#가중치의 의미 확인하기"
   ]
  },
  {
   "cell_type": "code",
   "execution_count": 37,
   "id": "6203cca9-e10e-4733-85c9-aeb94168dfcb",
   "metadata": {},
   "outputs": [
    {
     "data": {
      "text/plain": [
       "Index(['연령대코드(5세단위)', '신장(5cm단위)', '체중(5kg단위)', '허리둘레', '수축기혈압', '이완기혈압',\n",
       "       '식전혈당(공복혈당)', '총콜레스테롤', '트리글리세라이드', 'HDL콜레스테롤', 'LDL콜레스테롤', '혈색소',\n",
       "       '요단백', '혈청크레아티닌', '혈청지오티(AST)', '혈청지피티(ALT)', '감마지티피', '흡연상태', '음주여부'],\n",
       "      dtype='object')"
      ]
     },
     "execution_count": 37,
     "metadata": {},
     "output_type": "execute_result"
    }
   ],
   "source": [
    "# 주요 Feature 삭제를 위해 칼럼명 재확인하기\n",
    "train.columns"
   ]
  },
  {
   "cell_type": "code",
   "execution_count": 39,
   "id": "3000fa80-38ab-4b2d-a30d-e74e88a5e1e3",
   "metadata": {},
   "outputs": [],
   "source": [
    "#주요 Feature 삭제하기\n",
    "x = x.drop(['총콜레스테롤', '트리글리세라이드', 'HDL콜레스테롤'], axis=1)\n",
    "\n",
    "#scikit learn에서 코드 비율대로 불러오기\n",
    "x_train, x_test, y_train, y_test = train_test_split(x, y, test_size=0.33, random_state=42)"
   ]
  },
  {
   "cell_type": "code",
   "execution_count": 41,
   "id": "0c38f5ed-0b25-437d-a413-64afceafc7eb",
   "metadata": {},
   "outputs": [
    {
     "name": "stdout",
     "output_type": "stream",
     "text": [
      "coef\n",
      "[-1.50293683 -0.39035452  0.15513633 -0.20859166 -0.20332664  0.40434892\n",
      " -0.13615129  3.43928937 -0.68370857 -2.45956598 -0.08639088  0.06739086\n",
      " -0.01048069 -2.77843294  0.15151187]\n",
      "intercept\n",
      "170.5775287085708\n"
     ]
    }
   ],
   "source": [
    "#선형 회귀 재생성 및 학습하기\n",
    "lr = LinearRegression()\n",
    "lr.fit(x_train, y_train)\n",
    "\n",
    "#각각 데이터에 대해 가중치 확인하기\n",
    "print(f'''coef\n",
    "{lr.coef_}\n",
    "intercept\n",
    "{lr.intercept_}''')"
   ]
  },
  {
   "cell_type": "code",
   "execution_count": 42,
   "id": "d6070591-d5fb-483f-86e8-e01449d031a6",
   "metadata": {},
   "outputs": [
    {
     "name": "stdout",
     "output_type": "stream",
     "text": [
      "가중치 확인\n",
      "연령대코드(5세단위) = -0.0021154736576941484\n",
      "신장(5cm단위) = 0.008382856140952737\n",
      "체중(5kg단위) = 0.004039744108514473\n",
      "허리둘레 = 0.02586561239950298\n",
      "수축기혈압 = -0.003622269066452875\n",
      "이완기혈압 = -0.004789193384671206\n",
      "식전혈당(공복혈당) = -0.0018193256235434347\n",
      "혈색소 = 0.9889344164631596\n",
      "요단백 = -0.18998982863839814\n",
      "혈청크레아티닌 = -0.9096387125982947\n",
      "혈청지오티(AST) = 0.04906444369407475\n",
      "혈청지피티(ALT) = 0.04162509002268398\n",
      "감마지티피 = 0.14300268237983213\n",
      "흡연상태 = -0.006545718172645947\n",
      "음주여부 = 0.005209544960069898\n"
     ]
    }
   ],
   "source": [
    "#검증 데이터로 예측하기\n",
    "y_pred = lr.predict(x_test)\n",
    "print(\"가중치 확인\")\n",
    "for index, columns in enumerate(x_train.columns):\n",
    "    print(f\"{columns} = {reg.coef_[index]}\")\n"
   ]
  },
  {
   "cell_type": "code",
   "execution_count": 43,
   "id": "fa9ffc42-ffaf-4147-951c-d93040059702",
   "metadata": {},
   "outputs": [
    {
     "name": "stdout",
     "output_type": "stream",
     "text": [
      "주요 Feature 삭제 후 rmse=37.185\n"
     ]
    }
   ],
   "source": [
    "#주요 feature 삭제 후 rmse 확인하기\n",
    "rmse_2= mean_squared_error(y_test, y_pred, squared=False)\n",
    "#가중치 큰 특성 삭제했을 때 영향을 많이 받는지 확인\n",
    "print(f'''주요 Feature 삭제 후 rmse={round(rmse_2,3)}''')"
   ]
  },
  {
   "cell_type": "code",
   "execution_count": null,
   "id": "f9720874-d850-409a-9677-6b4bfc797082",
   "metadata": {},
   "outputs": [],
   "source": [
    "# 주요 feature를 삭제했을 때 rmse가 많이 오른 것을 볼 수 있다. "
   ]
  }
 ],
 "metadata": {
  "kernelspec": {
   "display_name": "Python 3 (ipykernel)",
   "language": "python",
   "name": "python3"
  },
  "language_info": {
   "codemirror_mode": {
    "name": "ipython",
    "version": 3
   },
   "file_extension": ".py",
   "mimetype": "text/x-python",
   "name": "python",
   "nbconvert_exporter": "python",
   "pygments_lexer": "ipython3",
   "version": "3.11.4"
  }
 },
 "nbformat": 4,
 "nbformat_minor": 5
}
