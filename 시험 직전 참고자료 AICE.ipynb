{
 "cells": [
  {
   "cell_type": "code",
   "execution_count": null,
   "metadata": {},
   "outputs": [],
   "source": [
    "#헷갈리던 내용 마지막 정리\n",
    "\n",
    "#각종 scaler 사용 이렇게 4줄만 해라.\n",
    "from sklearn.preprocessing import StandardScaler\n",
    "ss = StandardScaler()\n",
    "X_train = ss.fit_transform(X_train)  \n",
    "X_test = ss.transform(X_test)   #scaler에서 X_test는 fit 하면 안댐.\n",
    "#Regressor 사용. 다른 decisiontree, knn, randomforest 동일.\n",
    "from sklearn.linear_model import LogisticRegression\n",
    "lg = LogisticRegression()\n",
    "lg.fit(X_train, y_train)\n",
    "lg_pred = lg.predict(X_test)\n",
    "\n",
    "#object 칼럼 뽑아내기\n",
    "objcol = df.select_dtype('object').columns\n",
    "df = pd.get_dummies(df, columns = objcol)\n",
    "\n",
    "#X, y 데이터 분리\n",
    "X = df.drop('~~', axis=1).values\n",
    "y = df['~~'].values\n",
    "\n",
    "#특정 열에서 조건에 안맞는 칸들 지우기\n",
    "df = df[df['~~'] < 300]\n",
    "\n",
    "#특정 열들 지우기\n",
    "df = df.drop(['~~', '~~'], axis=1)\n",
    "\n",
    "#특정 열에서 해당 값(ex. '3개')인거 지우기\n",
    "df [ df[df['보유 과일 수'] !='3개']]\n",
    "\n",
    "#결측치 총 개수 칼럼별 확인하기\n",
    "df.isna().sum()\n",
    "#행에서 결측치들 날리기\n",
    "df1 = df.dropna(axis=0)\n",
    "\n",
    "X_train.shape\n",
    "#했을때 나오는 값이 38이라고 할때 dnn 모델 처음에\n",
    "model = Sequential()\n",
    "model.add(Dense(4, activation='relu', input_shape=(38,)))\n",
    "model.add(Dropout(0.3))\n",
    "#모델 컴파일시\n",
    "#예측 모델이라면\n",
    "model.compile(optimizer='adam', loss='mse')\n",
    "#컴파일 마치면 학습. history에 저장도 같이\n",
    "#early_stop, check_point도 필요하면 history 선언 전에 미리 설정.\n",
    "#history 안에 callbacks=[early_stop, check_point] 로 같이 쓰기\n",
    "history = model.fit(X_train, y_train, epochs=_, batch_size=_, validation_data = (X_test, y_test))\n",
    "#성능 시각화\n",
    "plt.plot(history.history['mse'])\n",
    "plt.plot(history.history['val_mse'])\n",
    "plt.title('~')\n",
    "plt.xlabel('~')\n",
    "plt.ylabel('~')\n",
    "plt.legend(['mse', 'val_mse'])\n",
    "plt.show()"
   ]
  },
  {
   "cell_type": "markdown",
   "metadata": {},
   "source": []
  }
 ],
 "metadata": {
  "language_info": {
   "name": "python"
  }
 },
 "nbformat": 4,
 "nbformat_minor": 2
}
