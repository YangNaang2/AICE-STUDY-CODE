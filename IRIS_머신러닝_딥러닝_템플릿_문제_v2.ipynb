{
  "nbformat": 4,
  "nbformat_minor": 0,
  "metadata": {
    "colab": {
      "provenance": []
    },
    "kernelspec": {
      "name": "python3",
      "display_name": "Python 3"
    },
    "language_info": {
      "name": "python"
    }
  },
  "cells": [
    {
      "cell_type": "markdown",
      "source": [
        "# 머신러닝, 딥러닝 IRIS템플릿(HARD)"
      ],
      "metadata": {
        "id": "JEYaVs-2FZbG"
      }
    },
    {
      "cell_type": "markdown",
      "source": [
        "## > 머신러닝, 딥러닝 IRIS템플릿 목적\n",
        "- 간단하게 쉽게 머신러닝, 딥러닝 모델링 만들기\n",
        "- 잘 몰라도 아래 순서에 맞게 , 이런식으로 실행하면 되겠구나 느끼기\n",
        "- 여러분이 처음 한다고 생각하고 템플릿 작성함"
      ],
      "metadata": {
        "id": "YXy59gFnGy91"
      }
    },
    {
      "cell_type": "markdown",
      "source": [
        "## > 모델링 프로세스\n",
        "1. 데이터 가져오기\n",
        "2. 데이터 분석\n",
        "3. X , y 나누기\n",
        "4. 머신러닝 모델링\n",
        "5. 딥러닝 모델링\n",
        "6. 딥러닝 성능 평가"
      ],
      "metadata": {
        "id": "38_o3kptFiCu"
      }
    },
    {
      "cell_type": "markdown",
      "source": [
        "---"
      ],
      "metadata": {
        "id": "ClCquuufGhTN"
      }
    },
    {
      "cell_type": "markdown",
      "source": [
        "# 1. 데이터 가져오기\n",
        "- 먼저, 데이터가 있어야 모델링을 만들수 있다.\n",
        "- 데이터 가져오는 방법에는 여러가지 있다.\n",
        " - 본인 데이터를 직접 올리는 방법\n",
        " - 기존에 제공하는 데이터 가져다 쓰는 방법"
      ],
      "metadata": {
        "id": "lZV4wkNeGdMI"
      }
    },
    {
      "cell_type": "code",
      "execution_count": 1,
      "metadata": {
        "id": "bVGzC0YIFQR7"
      },
      "outputs": [],
      "source": [
        "# 필요한 라이브러리 가져오기\n",
        "# 그냥 무조건 가져온다고 생각하자 : pandas, numpy, seaborn, matplotlib.pyplot\n",
        "# seaborn 설치가 되어 있지 않으면 라이브러리는 설치 필요 : !pip install seaborn\n",
        "import pandas as pd\n",
        "import numpy as np\n",
        "import seaborn as sns\n",
        "import matplotlib.pyplot as plt\n",
        "\n",
        "\n"
      ]
    },
    {
      "cell_type": "code",
      "source": [
        "# Seaborn에서 제공하는 데이터셋 확인하기\n",
        "sns.get_dataset_names()"
      ],
      "metadata": {
        "colab": {
          "base_uri": "https://localhost:8080/"
        },
        "id": "GGckugMNFYRv",
        "outputId": "cc64e5cd-48e2-4043-c56d-cf63ae23f7ad"
      },
      "execution_count": 2,
      "outputs": [
        {
          "output_type": "execute_result",
          "data": {
            "text/plain": [
              "['anagrams',\n",
              " 'anscombe',\n",
              " 'attention',\n",
              " 'brain_networks',\n",
              " 'car_crashes',\n",
              " 'diamonds',\n",
              " 'dots',\n",
              " 'dowjones',\n",
              " 'exercise',\n",
              " 'flights',\n",
              " 'fmri',\n",
              " 'geyser',\n",
              " 'glue',\n",
              " 'healthexp',\n",
              " 'iris',\n",
              " 'mpg',\n",
              " 'penguins',\n",
              " 'planets',\n",
              " 'seaice',\n",
              " 'taxis',\n",
              " 'tips',\n",
              " 'titanic']"
            ]
          },
          "metadata": {},
          "execution_count": 2
        }
      ]
    },
    {
      "cell_type": "markdown",
      "source": [
        "#### IRIS 데이터셋 가져오기"
      ],
      "metadata": {
        "id": "CTUqlObRLA7s"
      }
    },
    {
      "cell_type": "code",
      "source": [
        "# 많이 사용하는 데이터는 'iris' , 'tips' , 'titanic'\n",
        "# 그중에서 iris 데이터셋 가져오기\n",
        "# seaborn load_dataset('iris') 함수 활용 : 결과 iris 저장\n",
        "iris = sns.load_dataset('iris')\n",
        "\n"
      ],
      "metadata": {
        "id": "LcXCrk84FYUX"
      },
      "execution_count": 3,
      "outputs": []
    },
    {
      "cell_type": "code",
      "source": [
        "type(iris)"
      ],
      "metadata": {
        "colab": {
          "base_uri": "https://localhost:8080/",
          "height": 203
        },
        "id": "cM8-QlrsP3s3",
        "outputId": "562a5224-d534-4912-e821-f7768934c8be"
      },
      "execution_count": 4,
      "outputs": [
        {
          "output_type": "execute_result",
          "data": {
            "text/plain": [
              "pandas.core.frame.DataFrame"
            ],
            "text/html": [
              "<div style=\"max-width:800px; border: 1px solid var(--colab-border-color);\"><style>\n",
              "      pre.function-repr-contents {\n",
              "        overflow-x: auto;\n",
              "        padding: 8px 12px;\n",
              "        max-height: 500px;\n",
              "      }\n",
              "\n",
              "      pre.function-repr-contents.function-repr-contents-collapsed {\n",
              "        cursor: pointer;\n",
              "        max-height: 100px;\n",
              "      }\n",
              "    </style>\n",
              "    <pre style=\"white-space: initial; background:\n",
              "         var(--colab-secondary-surface-color); padding: 8px 12px;\n",
              "         border-bottom: 1px solid var(--colab-border-color);\"><b>pandas.core.frame.DataFrame</b><br/>def __init__(data=None, index: Axes | None=None, columns: Axes | None=None, dtype: Dtype | None=None, copy: bool | None=None) -&gt; None</pre><pre class=\"function-repr-contents function-repr-contents-collapsed\" style=\"\"><a class=\"filepath\" style=\"display:none\" href=\"#\">/usr/local/lib/python3.10/dist-packages/pandas/core/frame.py</a>Two-dimensional, size-mutable, potentially heterogeneous tabular data.\n",
              "\n",
              "Data structure also contains labeled axes (rows and columns).\n",
              "Arithmetic operations align on both row and column labels. Can be\n",
              "thought of as a dict-like container for Series objects. The primary\n",
              "pandas data structure.\n",
              "\n",
              "Parameters\n",
              "----------\n",
              "data : ndarray (structured or homogeneous), Iterable, dict, or DataFrame\n",
              "    Dict can contain Series, arrays, constants, dataclass or list-like objects. If\n",
              "    data is a dict, column order follows insertion-order. If a dict contains Series\n",
              "    which have an index defined, it is aligned by its index. This alignment also\n",
              "    occurs if data is a Series or a DataFrame itself. Alignment is done on\n",
              "    Series/DataFrame inputs.\n",
              "\n",
              "    If data is a list of dicts, column order follows insertion-order.\n",
              "\n",
              "index : Index or array-like\n",
              "    Index to use for resulting frame. Will default to RangeIndex if\n",
              "    no indexing information part of input data and no index provided.\n",
              "columns : Index or array-like\n",
              "    Column labels to use for resulting frame when data does not have them,\n",
              "    defaulting to RangeIndex(0, 1, 2, ..., n). If data contains column labels,\n",
              "    will perform column selection instead.\n",
              "dtype : dtype, default None\n",
              "    Data type to force. Only a single dtype is allowed. If None, infer.\n",
              "copy : bool or None, default None\n",
              "    Copy data from inputs.\n",
              "    For dict data, the default of None behaves like ``copy=True``.  For DataFrame\n",
              "    or 2d ndarray input, the default of None behaves like ``copy=False``.\n",
              "    If data is a dict containing one or more Series (possibly of different dtypes),\n",
              "    ``copy=False`` will ensure that these inputs are not copied.\n",
              "\n",
              "    .. versionchanged:: 1.3.0\n",
              "\n",
              "See Also\n",
              "--------\n",
              "DataFrame.from_records : Constructor from tuples, also record arrays.\n",
              "DataFrame.from_dict : From dicts of Series, arrays, or dicts.\n",
              "read_csv : Read a comma-separated values (csv) file into DataFrame.\n",
              "read_table : Read general delimited file into DataFrame.\n",
              "read_clipboard : Read text from clipboard into DataFrame.\n",
              "\n",
              "Notes\n",
              "-----\n",
              "Please reference the :ref:`User Guide &lt;basics.dataframe&gt;` for more information.\n",
              "\n",
              "Examples\n",
              "--------\n",
              "Constructing DataFrame from a dictionary.\n",
              "\n",
              "&gt;&gt;&gt; d = {&#x27;col1&#x27;: [1, 2], &#x27;col2&#x27;: [3, 4]}\n",
              "&gt;&gt;&gt; df = pd.DataFrame(data=d)\n",
              "&gt;&gt;&gt; df\n",
              "   col1  col2\n",
              "0     1     3\n",
              "1     2     4\n",
              "\n",
              "Notice that the inferred dtype is int64.\n",
              "\n",
              "&gt;&gt;&gt; df.dtypes\n",
              "col1    int64\n",
              "col2    int64\n",
              "dtype: object\n",
              "\n",
              "To enforce a single dtype:\n",
              "\n",
              "&gt;&gt;&gt; df = pd.DataFrame(data=d, dtype=np.int8)\n",
              "&gt;&gt;&gt; df.dtypes\n",
              "col1    int8\n",
              "col2    int8\n",
              "dtype: object\n",
              "\n",
              "Constructing DataFrame from a dictionary including Series:\n",
              "\n",
              "&gt;&gt;&gt; d = {&#x27;col1&#x27;: [0, 1, 2, 3], &#x27;col2&#x27;: pd.Series([2, 3], index=[2, 3])}\n",
              "&gt;&gt;&gt; pd.DataFrame(data=d, index=[0, 1, 2, 3])\n",
              "   col1  col2\n",
              "0     0   NaN\n",
              "1     1   NaN\n",
              "2     2   2.0\n",
              "3     3   3.0\n",
              "\n",
              "Constructing DataFrame from numpy ndarray:\n",
              "\n",
              "&gt;&gt;&gt; df2 = pd.DataFrame(np.array([[1, 2, 3], [4, 5, 6], [7, 8, 9]]),\n",
              "...                    columns=[&#x27;a&#x27;, &#x27;b&#x27;, &#x27;c&#x27;])\n",
              "&gt;&gt;&gt; df2\n",
              "   a  b  c\n",
              "0  1  2  3\n",
              "1  4  5  6\n",
              "2  7  8  9\n",
              "\n",
              "Constructing DataFrame from a numpy ndarray that has labeled columns:\n",
              "\n",
              "&gt;&gt;&gt; data = np.array([(1, 2, 3), (4, 5, 6), (7, 8, 9)],\n",
              "...                 dtype=[(&quot;a&quot;, &quot;i4&quot;), (&quot;b&quot;, &quot;i4&quot;), (&quot;c&quot;, &quot;i4&quot;)])\n",
              "&gt;&gt;&gt; df3 = pd.DataFrame(data, columns=[&#x27;c&#x27;, &#x27;a&#x27;])\n",
              "...\n",
              "&gt;&gt;&gt; df3\n",
              "   c  a\n",
              "0  3  1\n",
              "1  6  4\n",
              "2  9  7\n",
              "\n",
              "Constructing DataFrame from dataclass:\n",
              "\n",
              "&gt;&gt;&gt; from dataclasses import make_dataclass\n",
              "&gt;&gt;&gt; Point = make_dataclass(&quot;Point&quot;, [(&quot;x&quot;, int), (&quot;y&quot;, int)])\n",
              "&gt;&gt;&gt; pd.DataFrame([Point(0, 0), Point(0, 3), Point(2, 3)])\n",
              "   x  y\n",
              "0  0  0\n",
              "1  0  3\n",
              "2  2  3\n",
              "\n",
              "Constructing DataFrame from Series/DataFrame:\n",
              "\n",
              "&gt;&gt;&gt; ser = pd.Series([1, 2, 3], index=[&quot;a&quot;, &quot;b&quot;, &quot;c&quot;])\n",
              "&gt;&gt;&gt; df = pd.DataFrame(data=ser, index=[&quot;a&quot;, &quot;c&quot;])\n",
              "&gt;&gt;&gt; df\n",
              "   0\n",
              "a  1\n",
              "c  3\n",
              "\n",
              "&gt;&gt;&gt; df1 = pd.DataFrame([1, 2, 3], index=[&quot;a&quot;, &quot;b&quot;, &quot;c&quot;], columns=[&quot;x&quot;])\n",
              "&gt;&gt;&gt; df2 = pd.DataFrame(data=df1, index=[&quot;a&quot;, &quot;c&quot;])\n",
              "&gt;&gt;&gt; df2\n",
              "   x\n",
              "a  1\n",
              "c  3</pre>\n",
              "      <script>\n",
              "      if (google.colab.kernel.accessAllowed && google.colab.files && google.colab.files.view) {\n",
              "        for (const element of document.querySelectorAll('.filepath')) {\n",
              "          element.style.display = 'block'\n",
              "          element.onclick = (event) => {\n",
              "            event.preventDefault();\n",
              "            event.stopPropagation();\n",
              "            google.colab.files.view(element.textContent, 490);\n",
              "          };\n",
              "        }\n",
              "      }\n",
              "      for (const element of document.querySelectorAll('.function-repr-contents')) {\n",
              "        element.onclick = (event) => {\n",
              "          event.preventDefault();\n",
              "          event.stopPropagation();\n",
              "          element.classList.toggle('function-repr-contents-collapsed');\n",
              "        };\n",
              "      }\n",
              "      </script>\n",
              "      </div>"
            ]
          },
          "metadata": {},
          "execution_count": 4
        }
      ]
    },
    {
      "cell_type": "code",
      "source": [
        "# 가져온 iris 데이터 앞 5개 확인 하기\n",
        "# 자동으로 판다스 데이터프레임 형식으로 읽어짐\n",
        "iris.head()\n",
        "\n"
      ],
      "metadata": {
        "colab": {
          "base_uri": "https://localhost:8080/",
          "height": 206
        },
        "id": "UoTVDJjAFYW-",
        "outputId": "415b7462-7dfe-4024-f13c-d51a063304f8"
      },
      "execution_count": 5,
      "outputs": [
        {
          "output_type": "execute_result",
          "data": {
            "text/plain": [
              "   sepal_length  sepal_width  petal_length  petal_width species\n",
              "0           5.1          3.5           1.4          0.2  setosa\n",
              "1           4.9          3.0           1.4          0.2  setosa\n",
              "2           4.7          3.2           1.3          0.2  setosa\n",
              "3           4.6          3.1           1.5          0.2  setosa\n",
              "4           5.0          3.6           1.4          0.2  setosa"
            ],
            "text/html": [
              "\n",
              "  <div id=\"df-37e4d5f3-7dec-4410-b4e7-7fbfdc718ed0\" class=\"colab-df-container\">\n",
              "    <div>\n",
              "<style scoped>\n",
              "    .dataframe tbody tr th:only-of-type {\n",
              "        vertical-align: middle;\n",
              "    }\n",
              "\n",
              "    .dataframe tbody tr th {\n",
              "        vertical-align: top;\n",
              "    }\n",
              "\n",
              "    .dataframe thead th {\n",
              "        text-align: right;\n",
              "    }\n",
              "</style>\n",
              "<table border=\"1\" class=\"dataframe\">\n",
              "  <thead>\n",
              "    <tr style=\"text-align: right;\">\n",
              "      <th></th>\n",
              "      <th>sepal_length</th>\n",
              "      <th>sepal_width</th>\n",
              "      <th>petal_length</th>\n",
              "      <th>petal_width</th>\n",
              "      <th>species</th>\n",
              "    </tr>\n",
              "  </thead>\n",
              "  <tbody>\n",
              "    <tr>\n",
              "      <th>0</th>\n",
              "      <td>5.1</td>\n",
              "      <td>3.5</td>\n",
              "      <td>1.4</td>\n",
              "      <td>0.2</td>\n",
              "      <td>setosa</td>\n",
              "    </tr>\n",
              "    <tr>\n",
              "      <th>1</th>\n",
              "      <td>4.9</td>\n",
              "      <td>3.0</td>\n",
              "      <td>1.4</td>\n",
              "      <td>0.2</td>\n",
              "      <td>setosa</td>\n",
              "    </tr>\n",
              "    <tr>\n",
              "      <th>2</th>\n",
              "      <td>4.7</td>\n",
              "      <td>3.2</td>\n",
              "      <td>1.3</td>\n",
              "      <td>0.2</td>\n",
              "      <td>setosa</td>\n",
              "    </tr>\n",
              "    <tr>\n",
              "      <th>3</th>\n",
              "      <td>4.6</td>\n",
              "      <td>3.1</td>\n",
              "      <td>1.5</td>\n",
              "      <td>0.2</td>\n",
              "      <td>setosa</td>\n",
              "    </tr>\n",
              "    <tr>\n",
              "      <th>4</th>\n",
              "      <td>5.0</td>\n",
              "      <td>3.6</td>\n",
              "      <td>1.4</td>\n",
              "      <td>0.2</td>\n",
              "      <td>setosa</td>\n",
              "    </tr>\n",
              "  </tbody>\n",
              "</table>\n",
              "</div>\n",
              "    <div class=\"colab-df-buttons\">\n",
              "\n",
              "  <div class=\"colab-df-container\">\n",
              "    <button class=\"colab-df-convert\" onclick=\"convertToInteractive('df-37e4d5f3-7dec-4410-b4e7-7fbfdc718ed0')\"\n",
              "            title=\"Convert this dataframe to an interactive table.\"\n",
              "            style=\"display:none;\">\n",
              "\n",
              "  <svg xmlns=\"http://www.w3.org/2000/svg\" height=\"24px\" viewBox=\"0 -960 960 960\">\n",
              "    <path d=\"M120-120v-720h720v720H120Zm60-500h600v-160H180v160Zm220 220h160v-160H400v160Zm0 220h160v-160H400v160ZM180-400h160v-160H180v160Zm440 0h160v-160H620v160ZM180-180h160v-160H180v160Zm440 0h160v-160H620v160Z\"/>\n",
              "  </svg>\n",
              "    </button>\n",
              "\n",
              "  <style>\n",
              "    .colab-df-container {\n",
              "      display:flex;\n",
              "      gap: 12px;\n",
              "    }\n",
              "\n",
              "    .colab-df-convert {\n",
              "      background-color: #E8F0FE;\n",
              "      border: none;\n",
              "      border-radius: 50%;\n",
              "      cursor: pointer;\n",
              "      display: none;\n",
              "      fill: #1967D2;\n",
              "      height: 32px;\n",
              "      padding: 0 0 0 0;\n",
              "      width: 32px;\n",
              "    }\n",
              "\n",
              "    .colab-df-convert:hover {\n",
              "      background-color: #E2EBFA;\n",
              "      box-shadow: 0px 1px 2px rgba(60, 64, 67, 0.3), 0px 1px 3px 1px rgba(60, 64, 67, 0.15);\n",
              "      fill: #174EA6;\n",
              "    }\n",
              "\n",
              "    .colab-df-buttons div {\n",
              "      margin-bottom: 4px;\n",
              "    }\n",
              "\n",
              "    [theme=dark] .colab-df-convert {\n",
              "      background-color: #3B4455;\n",
              "      fill: #D2E3FC;\n",
              "    }\n",
              "\n",
              "    [theme=dark] .colab-df-convert:hover {\n",
              "      background-color: #434B5C;\n",
              "      box-shadow: 0px 1px 3px 1px rgba(0, 0, 0, 0.15);\n",
              "      filter: drop-shadow(0px 1px 2px rgba(0, 0, 0, 0.3));\n",
              "      fill: #FFFFFF;\n",
              "    }\n",
              "  </style>\n",
              "\n",
              "    <script>\n",
              "      const buttonEl =\n",
              "        document.querySelector('#df-37e4d5f3-7dec-4410-b4e7-7fbfdc718ed0 button.colab-df-convert');\n",
              "      buttonEl.style.display =\n",
              "        google.colab.kernel.accessAllowed ? 'block' : 'none';\n",
              "\n",
              "      async function convertToInteractive(key) {\n",
              "        const element = document.querySelector('#df-37e4d5f3-7dec-4410-b4e7-7fbfdc718ed0');\n",
              "        const dataTable =\n",
              "          await google.colab.kernel.invokeFunction('convertToInteractive',\n",
              "                                                    [key], {});\n",
              "        if (!dataTable) return;\n",
              "\n",
              "        const docLinkHtml = 'Like what you see? Visit the ' +\n",
              "          '<a target=\"_blank\" href=https://colab.research.google.com/notebooks/data_table.ipynb>data table notebook</a>'\n",
              "          + ' to learn more about interactive tables.';\n",
              "        element.innerHTML = '';\n",
              "        dataTable['output_type'] = 'display_data';\n",
              "        await google.colab.output.renderOutput(dataTable, element);\n",
              "        const docLink = document.createElement('div');\n",
              "        docLink.innerHTML = docLinkHtml;\n",
              "        element.appendChild(docLink);\n",
              "      }\n",
              "    </script>\n",
              "  </div>\n",
              "\n",
              "\n",
              "<div id=\"df-b53c337b-7157-47dd-8c63-72571ccf33d3\">\n",
              "  <button class=\"colab-df-quickchart\" onclick=\"quickchart('df-b53c337b-7157-47dd-8c63-72571ccf33d3')\"\n",
              "            title=\"Suggest charts\"\n",
              "            style=\"display:none;\">\n",
              "\n",
              "<svg xmlns=\"http://www.w3.org/2000/svg\" height=\"24px\"viewBox=\"0 0 24 24\"\n",
              "     width=\"24px\">\n",
              "    <g>\n",
              "        <path d=\"M19 3H5c-1.1 0-2 .9-2 2v14c0 1.1.9 2 2 2h14c1.1 0 2-.9 2-2V5c0-1.1-.9-2-2-2zM9 17H7v-7h2v7zm4 0h-2V7h2v10zm4 0h-2v-4h2v4z\"/>\n",
              "    </g>\n",
              "</svg>\n",
              "  </button>\n",
              "\n",
              "<style>\n",
              "  .colab-df-quickchart {\n",
              "      --bg-color: #E8F0FE;\n",
              "      --fill-color: #1967D2;\n",
              "      --hover-bg-color: #E2EBFA;\n",
              "      --hover-fill-color: #174EA6;\n",
              "      --disabled-fill-color: #AAA;\n",
              "      --disabled-bg-color: #DDD;\n",
              "  }\n",
              "\n",
              "  [theme=dark] .colab-df-quickchart {\n",
              "      --bg-color: #3B4455;\n",
              "      --fill-color: #D2E3FC;\n",
              "      --hover-bg-color: #434B5C;\n",
              "      --hover-fill-color: #FFFFFF;\n",
              "      --disabled-bg-color: #3B4455;\n",
              "      --disabled-fill-color: #666;\n",
              "  }\n",
              "\n",
              "  .colab-df-quickchart {\n",
              "    background-color: var(--bg-color);\n",
              "    border: none;\n",
              "    border-radius: 50%;\n",
              "    cursor: pointer;\n",
              "    display: none;\n",
              "    fill: var(--fill-color);\n",
              "    height: 32px;\n",
              "    padding: 0;\n",
              "    width: 32px;\n",
              "  }\n",
              "\n",
              "  .colab-df-quickchart:hover {\n",
              "    background-color: var(--hover-bg-color);\n",
              "    box-shadow: 0 1px 2px rgba(60, 64, 67, 0.3), 0 1px 3px 1px rgba(60, 64, 67, 0.15);\n",
              "    fill: var(--button-hover-fill-color);\n",
              "  }\n",
              "\n",
              "  .colab-df-quickchart-complete:disabled,\n",
              "  .colab-df-quickchart-complete:disabled:hover {\n",
              "    background-color: var(--disabled-bg-color);\n",
              "    fill: var(--disabled-fill-color);\n",
              "    box-shadow: none;\n",
              "  }\n",
              "\n",
              "  .colab-df-spinner {\n",
              "    border: 2px solid var(--fill-color);\n",
              "    border-color: transparent;\n",
              "    border-bottom-color: var(--fill-color);\n",
              "    animation:\n",
              "      spin 1s steps(1) infinite;\n",
              "  }\n",
              "\n",
              "  @keyframes spin {\n",
              "    0% {\n",
              "      border-color: transparent;\n",
              "      border-bottom-color: var(--fill-color);\n",
              "      border-left-color: var(--fill-color);\n",
              "    }\n",
              "    20% {\n",
              "      border-color: transparent;\n",
              "      border-left-color: var(--fill-color);\n",
              "      border-top-color: var(--fill-color);\n",
              "    }\n",
              "    30% {\n",
              "      border-color: transparent;\n",
              "      border-left-color: var(--fill-color);\n",
              "      border-top-color: var(--fill-color);\n",
              "      border-right-color: var(--fill-color);\n",
              "    }\n",
              "    40% {\n",
              "      border-color: transparent;\n",
              "      border-right-color: var(--fill-color);\n",
              "      border-top-color: var(--fill-color);\n",
              "    }\n",
              "    60% {\n",
              "      border-color: transparent;\n",
              "      border-right-color: var(--fill-color);\n",
              "    }\n",
              "    80% {\n",
              "      border-color: transparent;\n",
              "      border-right-color: var(--fill-color);\n",
              "      border-bottom-color: var(--fill-color);\n",
              "    }\n",
              "    90% {\n",
              "      border-color: transparent;\n",
              "      border-bottom-color: var(--fill-color);\n",
              "    }\n",
              "  }\n",
              "</style>\n",
              "\n",
              "  <script>\n",
              "    async function quickchart(key) {\n",
              "      const quickchartButtonEl =\n",
              "        document.querySelector('#' + key + ' button');\n",
              "      quickchartButtonEl.disabled = true;  // To prevent multiple clicks.\n",
              "      quickchartButtonEl.classList.add('colab-df-spinner');\n",
              "      try {\n",
              "        const charts = await google.colab.kernel.invokeFunction(\n",
              "            'suggestCharts', [key], {});\n",
              "      } catch (error) {\n",
              "        console.error('Error during call to suggestCharts:', error);\n",
              "      }\n",
              "      quickchartButtonEl.classList.remove('colab-df-spinner');\n",
              "      quickchartButtonEl.classList.add('colab-df-quickchart-complete');\n",
              "    }\n",
              "    (() => {\n",
              "      let quickchartButtonEl =\n",
              "        document.querySelector('#df-b53c337b-7157-47dd-8c63-72571ccf33d3 button');\n",
              "      quickchartButtonEl.style.display =\n",
              "        google.colab.kernel.accessAllowed ? 'block' : 'none';\n",
              "    })();\n",
              "  </script>\n",
              "</div>\n",
              "\n",
              "    </div>\n",
              "  </div>\n"
            ],
            "application/vnd.google.colaboratory.intrinsic+json": {
              "type": "dataframe",
              "variable_name": "iris",
              "summary": "{\n  \"name\": \"iris\",\n  \"rows\": 150,\n  \"fields\": [\n    {\n      \"column\": \"sepal_length\",\n      \"properties\": {\n        \"dtype\": \"number\",\n        \"std\": 0.828066127977863,\n        \"min\": 4.3,\n        \"max\": 7.9,\n        \"num_unique_values\": 35,\n        \"samples\": [\n          6.2,\n          4.5,\n          5.6\n        ],\n        \"semantic_type\": \"\",\n        \"description\": \"\"\n      }\n    },\n    {\n      \"column\": \"sepal_width\",\n      \"properties\": {\n        \"dtype\": \"number\",\n        \"std\": 0.4358662849366982,\n        \"min\": 2.0,\n        \"max\": 4.4,\n        \"num_unique_values\": 23,\n        \"samples\": [\n          2.3,\n          4.0,\n          3.5\n        ],\n        \"semantic_type\": \"\",\n        \"description\": \"\"\n      }\n    },\n    {\n      \"column\": \"petal_length\",\n      \"properties\": {\n        \"dtype\": \"number\",\n        \"std\": 1.7652982332594662,\n        \"min\": 1.0,\n        \"max\": 6.9,\n        \"num_unique_values\": 43,\n        \"samples\": [\n          6.7,\n          3.8,\n          3.7\n        ],\n        \"semantic_type\": \"\",\n        \"description\": \"\"\n      }\n    },\n    {\n      \"column\": \"petal_width\",\n      \"properties\": {\n        \"dtype\": \"number\",\n        \"std\": 0.7622376689603465,\n        \"min\": 0.1,\n        \"max\": 2.5,\n        \"num_unique_values\": 22,\n        \"samples\": [\n          0.2,\n          1.2,\n          1.3\n        ],\n        \"semantic_type\": \"\",\n        \"description\": \"\"\n      }\n    },\n    {\n      \"column\": \"species\",\n      \"properties\": {\n        \"dtype\": \"category\",\n        \"num_unique_values\": 3,\n        \"samples\": [\n          \"setosa\",\n          \"versicolor\",\n          \"virginica\"\n        ],\n        \"semantic_type\": \"\",\n        \"description\": \"\"\n      }\n    }\n  ]\n}"
            }
          },
          "metadata": {},
          "execution_count": 5
        }
      ]
    },
    {
      "cell_type": "markdown",
      "source": [
        "![IRIS](https://blog.kakaocdn.net/dn/CJCHb/btqS1WqufxB/IMgacd6IXsCl2LLgm1lykK/img.png)"
      ],
      "metadata": {
        "id": "t1vfYoEGKq9D"
      }
    },
    {
      "cell_type": "markdown",
      "source": [
        "# 2. 데이터 분석\n",
        "- 눈으로 데이터 수치를 보고 어떤 흐름인지 파악할수 있지만,\n",
        "- 시각화를 통한다면 쉽게 흐름을 파악할수 있으니, 할수 있으면 사용해라.\n",
        "- 여러분에게는 어려울수 있으니, 아, 이렇게 데이터를 가지고 시각화를 할수 있구나 느낀면 된다."
      ],
      "metadata": {
        "id": "gtGYasrCJlMV"
      }
    },
    {
      "cell_type": "code",
      "source": [
        "# 간단하게 시각화해 보기\n",
        "# 여러분은 잘 모르지만, 나중에 이렇게 시각화를 할수 있구나 알기\n",
        "\n",
        "# value_counts 함수 이용해서 species 컬럼에 대한 분포 확인\n",
        "iris['species'].value_counts()\n",
        "\n"
      ],
      "metadata": {
        "colab": {
          "base_uri": "https://localhost:8080/"
        },
        "id": "QJ1YjKp2FYZu",
        "outputId": "37ecfcd2-4650-4cd8-9432-f0faec8a5f37"
      },
      "execution_count": 6,
      "outputs": [
        {
          "output_type": "execute_result",
          "data": {
            "text/plain": [
              "species\n",
              "setosa        50\n",
              "versicolor    50\n",
              "virginica     50\n",
              "Name: count, dtype: int64"
            ]
          },
          "metadata": {},
          "execution_count": 6
        }
      ]
    },
    {
      "cell_type": "code",
      "source": [
        "# value_counts 함수 이용해서 species 컬럼에 대한 분포 확인값을 bar 차트 그리기\n",
        "iris['species'].value_counts().plot(kind='bar')\n",
        "\n"
      ],
      "metadata": {
        "colab": {
          "base_uri": "https://localhost:8080/",
          "height": 522
        },
        "id": "pjk6u_Jo4key",
        "outputId": "b9762319-d8dd-4e29-deb4-488bdfec7a94"
      },
      "execution_count": 9,
      "outputs": [
        {
          "output_type": "execute_result",
          "data": {
            "text/plain": [
              "<Axes: xlabel='species'>"
            ]
          },
          "metadata": {},
          "execution_count": 9
        },
        {
          "output_type": "display_data",
          "data": {
            "text/plain": [
              "<Figure size 640x480 with 1 Axes>"
            ],
            "image/png": "[encoded data removed]"
          },
          "metadata": {}
        }
      ]
    },
    {
      "cell_type": "code",
      "source": [
        "# 판다스 plot 함수 활용해 산점도(scatter) 그래프 시각화해 보기\n",
        "# 입력 : kind='scatter', x='sepal_length', y='petal_length'\n",
        "\n",
        "iris.plot(kind='scatter', x='sepal_length', y='petal_length')\n",
        "\n",
        "\n"
      ],
      "metadata": {
        "colab": {
          "base_uri": "https://localhost:8080/",
          "height": 469
        },
        "id": "GjyHj5GzFYcm",
        "outputId": "56b540bb-c80e-478e-edba-025b898b723c"
      },
      "execution_count": 11,
      "outputs": [
        {
          "output_type": "execute_result",
          "data": {
            "text/plain": [
              "<Axes: xlabel='sepal_length', ylabel='petal_length'>"
            ]
          },
          "metadata": {},
          "execution_count": 11
        },
        {
          "output_type": "display_data",
          "data": {
            "text/plain": [
              "<Figure size 640x480 with 1 Axes>"
            ],
            "image/png": "[encoded data removed]"
          },
          "metadata": {}
        }
      ]
    },
    {
      "cell_type": "code",
      "source": [
        "# 이번에는 seaborn scatterplot 함수 활용해서 산점도 그리기\n",
        "# 입력 : data=iris, x='sepal_length', y='petal_length', hue='species'\n",
        "\n",
        "# 위와 똑같은 그래프지만, 붓꽃 종류로 분류해서 그래프\n",
        "# 붓꽃 종류 3가지가 구분되어 보입니다.\n",
        "sns.scatterplot(data = iris, x='sepal_length', y='petal_length', hue='species')\n",
        "\n",
        "\n"
      ],
      "metadata": {
        "colab": {
          "base_uri": "https://localhost:8080/",
          "height": 469
        },
        "id": "-f4EDiaIFYfO",
        "outputId": "96abcbcb-f2d4-42db-ec73-ebffd2087131"
      },
      "execution_count": 15,
      "outputs": [
        {
          "output_type": "execute_result",
          "data": {
            "text/plain": [
              "<Axes: xlabel='sepal_length', ylabel='petal_length'>"
            ]
          },
          "metadata": {},
          "execution_count": 15
        },
        {
          "output_type": "display_data",
          "data": {
            "text/plain": [
              "<Figure size 640x480 with 1 Axes>"
            ],
            "image/png": "[encoded data removed]"
          },
          "metadata": {}
        }
      ]
    },
    {
      "cell_type": "markdown",
      "source": [
        "---"
      ],
      "metadata": {
        "id": "oOZzwql-M_RC"
      }
    },
    {
      "cell_type": "markdown",
      "source": [
        "# 3. X, y 나누기\n",
        "- 지도학습 경우 데이터와 정답이 있어야 합니다.\n",
        "- 데이터에 해당하는 X와 정답에 해당하는 y가 있어야 합니다.\n",
        "- 아래와 같이 판다스를 이용하면 X, y를 쉽게 나눌수 있어요"
      ],
      "metadata": {
        "id": "Dso_eoKDM_HS"
      }
    },
    {
      "cell_type": "code",
      "source": [
        "# IRIS 데이터 뒤 5개 보기\n",
        "iris.tail()\n",
        "\n"
      ],
      "metadata": {
        "colab": {
          "base_uri": "https://localhost:8080/",
          "height": 206
        },
        "id": "Cv1pnGNEJdcX",
        "outputId": "db60ec57-ae48-40e8-ac6f-99c56609b604"
      },
      "execution_count": 16,
      "outputs": [
        {
          "output_type": "execute_result",
          "data": {
            "text/plain": [
              "     sepal_length  sepal_width  petal_length  petal_width    species\n",
              "145           6.7          3.0           5.2          2.3  virginica\n",
              "146           6.3          2.5           5.0          1.9  virginica\n",
              "147           6.5          3.0           5.2          2.0  virginica\n",
              "148           6.2          3.4           5.4          2.3  virginica\n",
              "149           5.9          3.0           5.1          1.8  virginica"
            ],
            "text/html": [
              "\n",
              "  <div id=\"df-2ac9c326-e629-41e3-a87c-5b17c76ac6a3\" class=\"colab-df-container\">\n",
              "    <div>\n",
              "<style scoped>\n",
              "    .dataframe tbody tr th:only-of-type {\n",
              "        vertical-align: middle;\n",
              "    }\n",
              "\n",
              "    .dataframe tbody tr th {\n",
              "        vertical-align: top;\n",
              "    }\n",
              "\n",
              "    .dataframe thead th {\n",
              "        text-align: right;\n",
              "    }\n",
              "</style>\n",
              "<table border=\"1\" class=\"dataframe\">\n",
              "  <thead>\n",
              "    <tr style=\"text-align: right;\">\n",
              "      <th></th>\n",
              "      <th>sepal_length</th>\n",
              "      <th>sepal_width</th>\n",
              "      <th>petal_length</th>\n",
              "      <th>petal_width</th>\n",
              "      <th>species</th>\n",
              "    </tr>\n",
              "  </thead>\n",
              "  <tbody>\n",
              "    <tr>\n",
              "      <th>145</th>\n",
              "      <td>6.7</td>\n",
              "      <td>3.0</td>\n",
              "      <td>5.2</td>\n",
              "      <td>2.3</td>\n",
              "      <td>virginica</td>\n",
              "    </tr>\n",
              "    <tr>\n",
              "      <th>146</th>\n",
              "      <td>6.3</td>\n",
              "      <td>2.5</td>\n",
              "      <td>5.0</td>\n",
              "      <td>1.9</td>\n",
              "      <td>virginica</td>\n",
              "    </tr>\n",
              "    <tr>\n",
              "      <th>147</th>\n",
              "      <td>6.5</td>\n",
              "      <td>3.0</td>\n",
              "      <td>5.2</td>\n",
              "      <td>2.0</td>\n",
              "      <td>virginica</td>\n",
              "    </tr>\n",
              "    <tr>\n",
              "      <th>148</th>\n",
              "      <td>6.2</td>\n",
              "      <td>3.4</td>\n",
              "      <td>5.4</td>\n",
              "      <td>2.3</td>\n",
              "      <td>virginica</td>\n",
              "    </tr>\n",
              "    <tr>\n",
              "      <th>149</th>\n",
              "      <td>5.9</td>\n",
              "      <td>3.0</td>\n",
              "      <td>5.1</td>\n",
              "      <td>1.8</td>\n",
              "      <td>virginica</td>\n",
              "    </tr>\n",
              "  </tbody>\n",
              "</table>\n",
              "</div>\n",
              "    <div class=\"colab-df-buttons\">\n",
              "\n",
              "  <div class=\"colab-df-container\">\n",
              "    <button class=\"colab-df-convert\" onclick=\"convertToInteractive('df-2ac9c326-e629-41e3-a87c-5b17c76ac6a3')\"\n",
              "            title=\"Convert this dataframe to an interactive table.\"\n",
              "            style=\"display:none;\">\n",
              "\n",
              "  <svg xmlns=\"http://www.w3.org/2000/svg\" height=\"24px\" viewBox=\"0 -960 960 960\">\n",
              "    <path d=\"M120-120v-720h720v720H120Zm60-500h600v-160H180v160Zm220 220h160v-160H400v160Zm0 220h160v-160H400v160ZM180-400h160v-160H180v160Zm440 0h160v-160H620v160ZM180-180h160v-160H180v160Zm440 0h160v-160H620v160Z\"/>\n",
              "  </svg>\n",
              "    </button>\n",
              "\n",
              "  <style>\n",
              "    .colab-df-container {\n",
              "      display:flex;\n",
              "      gap: 12px;\n",
              "    }\n",
              "\n",
              "    .colab-df-convert {\n",
              "      background-color: #E8F0FE;\n",
              "      border: none;\n",
              "      border-radius: 50%;\n",
              "      cursor: pointer;\n",
              "      display: none;\n",
              "      fill: #1967D2;\n",
              "      height: 32px;\n",
              "      padding: 0 0 0 0;\n",
              "      width: 32px;\n",
              "    }\n",
              "\n",
              "    .colab-df-convert:hover {\n",
              "      background-color: #E2EBFA;\n",
              "      box-shadow: 0px 1px 2px rgba(60, 64, 67, 0.3), 0px 1px 3px 1px rgba(60, 64, 67, 0.15);\n",
              "      fill: #174EA6;\n",
              "    }\n",
              "\n",
              "    .colab-df-buttons div {\n",
              "      margin-bottom: 4px;\n",
              "    }\n",
              "\n",
              "    [theme=dark] .colab-df-convert {\n",
              "      background-color: #3B4455;\n",
              "      fill: #D2E3FC;\n",
              "    }\n",
              "\n",
              "    [theme=dark] .colab-df-convert:hover {\n",
              "      background-color: #434B5C;\n",
              "      box-shadow: 0px 1px 3px 1px rgba(0, 0, 0, 0.15);\n",
              "      filter: drop-shadow(0px 1px 2px rgba(0, 0, 0, 0.3));\n",
              "      fill: #FFFFFF;\n",
              "    }\n",
              "  </style>\n",
              "\n",
              "    <script>\n",
              "      const buttonEl =\n",
              "        document.querySelector('#df-2ac9c326-e629-41e3-a87c-5b17c76ac6a3 button.colab-df-convert');\n",
              "      buttonEl.style.display =\n",
              "        google.colab.kernel.accessAllowed ? 'block' : 'none';\n",
              "\n",
              "      async function convertToInteractive(key) {\n",
              "        const element = document.querySelector('#df-2ac9c326-e629-41e3-a87c-5b17c76ac6a3');\n",
              "        const dataTable =\n",
              "          await google.colab.kernel.invokeFunction('convertToInteractive',\n",
              "                                                    [key], {});\n",
              "        if (!dataTable) return;\n",
              "\n",
              "        const docLinkHtml = 'Like what you see? Visit the ' +\n",
              "          '<a target=\"_blank\" href=https://colab.research.google.com/notebooks/data_table.ipynb>data table notebook</a>'\n",
              "          + ' to learn more about interactive tables.';\n",
              "        element.innerHTML = '';\n",
              "        dataTable['output_type'] = 'display_data';\n",
              "        await google.colab.output.renderOutput(dataTable, element);\n",
              "        const docLink = document.createElement('div');\n",
              "        docLink.innerHTML = docLinkHtml;\n",
              "        element.appendChild(docLink);\n",
              "      }\n",
              "    </script>\n",
              "  </div>\n",
              "\n",
              "\n",
              "<div id=\"df-2007409c-eabd-49e2-81e4-326057596d0f\">\n",
              "  <button class=\"colab-df-quickchart\" onclick=\"quickchart('df-2007409c-eabd-49e2-81e4-326057596d0f')\"\n",
              "            title=\"Suggest charts\"\n",
              "            style=\"display:none;\">\n",
              "\n",
              "<svg xmlns=\"http://www.w3.org/2000/svg\" height=\"24px\"viewBox=\"0 0 24 24\"\n",
              "     width=\"24px\">\n",
              "    <g>\n",
              "        <path d=\"M19 3H5c-1.1 0-2 .9-2 2v14c0 1.1.9 2 2 2h14c1.1 0 2-.9 2-2V5c0-1.1-.9-2-2-2zM9 17H7v-7h2v7zm4 0h-2V7h2v10zm4 0h-2v-4h2v4z\"/>\n",
              "    </g>\n",
              "</svg>\n",
              "  </button>\n",
              "\n",
              "<style>\n",
              "  .colab-df-quickchart {\n",
              "      --bg-color: #E8F0FE;\n",
              "      --fill-color: #1967D2;\n",
              "      --hover-bg-color: #E2EBFA;\n",
              "      --hover-fill-color: #174EA6;\n",
              "      --disabled-fill-color: #AAA;\n",
              "      --disabled-bg-color: #DDD;\n",
              "  }\n",
              "\n",
              "  [theme=dark] .colab-df-quickchart {\n",
              "      --bg-color: #3B4455;\n",
              "      --fill-color: #D2E3FC;\n",
              "      --hover-bg-color: #434B5C;\n",
              "      --hover-fill-color: #FFFFFF;\n",
              "      --disabled-bg-color: #3B4455;\n",
              "      --disabled-fill-color: #666;\n",
              "  }\n",
              "\n",
              "  .colab-df-quickchart {\n",
              "    background-color: var(--bg-color);\n",
              "    border: none;\n",
              "    border-radius: 50%;\n",
              "    cursor: pointer;\n",
              "    display: none;\n",
              "    fill: var(--fill-color);\n",
              "    height: 32px;\n",
              "    padding: 0;\n",
              "    width: 32px;\n",
              "  }\n",
              "\n",
              "  .colab-df-quickchart:hover {\n",
              "    background-color: var(--hover-bg-color);\n",
              "    box-shadow: 0 1px 2px rgba(60, 64, 67, 0.3), 0 1px 3px 1px rgba(60, 64, 67, 0.15);\n",
              "    fill: var(--button-hover-fill-color);\n",
              "  }\n",
              "\n",
              "  .colab-df-quickchart-complete:disabled,\n",
              "  .colab-df-quickchart-complete:disabled:hover {\n",
              "    background-color: var(--disabled-bg-color);\n",
              "    fill: var(--disabled-fill-color);\n",
              "    box-shadow: none;\n",
              "  }\n",
              "\n",
              "  .colab-df-spinner {\n",
              "    border: 2px solid var(--fill-color);\n",
              "    border-color: transparent;\n",
              "    border-bottom-color: var(--fill-color);\n",
              "    animation:\n",
              "      spin 1s steps(1) infinite;\n",
              "  }\n",
              "\n",
              "  @keyframes spin {\n",
              "    0% {\n",
              "      border-color: transparent;\n",
              "      border-bottom-color: var(--fill-color);\n",
              "      border-left-color: var(--fill-color);\n",
              "    }\n",
              "    20% {\n",
              "      border-color: transparent;\n",
              "      border-left-color: var(--fill-color);\n",
              "      border-top-color: var(--fill-color);\n",
              "    }\n",
              "    30% {\n",
              "      border-color: transparent;\n",
              "      border-left-color: var(--fill-color);\n",
              "      border-top-color: var(--fill-color);\n",
              "      border-right-color: var(--fill-color);\n",
              "    }\n",
              "    40% {\n",
              "      border-color: transparent;\n",
              "      border-right-color: var(--fill-color);\n",
              "      border-top-color: var(--fill-color);\n",
              "    }\n",
              "    60% {\n",
              "      border-color: transparent;\n",
              "      border-right-color: var(--fill-color);\n",
              "    }\n",
              "    80% {\n",
              "      border-color: transparent;\n",
              "      border-right-color: var(--fill-color);\n",
              "      border-bottom-color: var(--fill-color);\n",
              "    }\n",
              "    90% {\n",
              "      border-color: transparent;\n",
              "      border-bottom-color: var(--fill-color);\n",
              "    }\n",
              "  }\n",
              "</style>\n",
              "\n",
              "  <script>\n",
              "    async function quickchart(key) {\n",
              "      const quickchartButtonEl =\n",
              "        document.querySelector('#' + key + ' button');\n",
              "      quickchartButtonEl.disabled = true;  // To prevent multiple clicks.\n",
              "      quickchartButtonEl.classList.add('colab-df-spinner');\n",
              "      try {\n",
              "        const charts = await google.colab.kernel.invokeFunction(\n",
              "            'suggestCharts', [key], {});\n",
              "      } catch (error) {\n",
              "        console.error('Error during call to suggestCharts:', error);\n",
              "      }\n",
              "      quickchartButtonEl.classList.remove('colab-df-spinner');\n",
              "      quickchartButtonEl.classList.add('colab-df-quickchart-complete');\n",
              "    }\n",
              "    (() => {\n",
              "      let quickchartButtonEl =\n",
              "        document.querySelector('#df-2007409c-eabd-49e2-81e4-326057596d0f button');\n",
              "      quickchartButtonEl.style.display =\n",
              "        google.colab.kernel.accessAllowed ? 'block' : 'none';\n",
              "    })();\n",
              "  </script>\n",
              "</div>\n",
              "\n",
              "    </div>\n",
              "  </div>\n"
            ],
            "application/vnd.google.colaboratory.intrinsic+json": {
              "type": "dataframe",
              "summary": "{\n  \"name\": \"iris\",\n  \"rows\": 5,\n  \"fields\": [\n    {\n      \"column\": \"sepal_length\",\n      \"properties\": {\n        \"dtype\": \"number\",\n        \"std\": 0.30331501776206193,\n        \"min\": 5.9,\n        \"max\": 6.7,\n        \"num_unique_values\": 5,\n        \"samples\": [\n          6.3,\n          5.9,\n          6.5\n        ],\n        \"semantic_type\": \"\",\n        \"description\": \"\"\n      }\n    },\n    {\n      \"column\": \"sepal_width\",\n      \"properties\": {\n        \"dtype\": \"number\",\n        \"std\": 0.31937438845342625,\n        \"min\": 2.5,\n        \"max\": 3.4,\n        \"num_unique_values\": 3,\n        \"samples\": [\n          3.0,\n          2.5,\n          3.4\n        ],\n        \"semantic_type\": \"\",\n        \"description\": \"\"\n      }\n    },\n    {\n      \"column\": \"petal_length\",\n      \"properties\": {\n        \"dtype\": \"number\",\n        \"std\": 0.14832396974191348,\n        \"min\": 5.0,\n        \"max\": 5.4,\n        \"num_unique_values\": 4,\n        \"samples\": [\n          5.0,\n          5.1,\n          5.2\n        ],\n        \"semantic_type\": \"\",\n        \"description\": \"\"\n      }\n    },\n    {\n      \"column\": \"petal_width\",\n      \"properties\": {\n        \"dtype\": \"number\",\n        \"std\": 0.23021728866442667,\n        \"min\": 1.8,\n        \"max\": 2.3,\n        \"num_unique_values\": 4,\n        \"samples\": [\n          1.9,\n          1.8,\n          2.3\n        ],\n        \"semantic_type\": \"\",\n        \"description\": \"\"\n      }\n    },\n    {\n      \"column\": \"species\",\n      \"properties\": {\n        \"dtype\": \"category\",\n        \"num_unique_values\": 1,\n        \"samples\": [\n          \"virginica\"\n        ],\n        \"semantic_type\": \"\",\n        \"description\": \"\"\n      }\n    }\n  ]\n}"
            }
          },
          "metadata": {},
          "execution_count": 16
        }
      ]
    },
    {
      "cell_type": "code",
      "source": [
        "# X 분리 : 판다스 drop 함수 활용\n",
        "# 입력 : 'species', axis=1\n",
        "X = iris.drop('species', axis=1)\n",
        "\n"
      ],
      "metadata": {
        "id": "jezSR6XXJdfF"
      },
      "execution_count": 17,
      "outputs": []
    },
    {
      "cell_type": "code",
      "source": [
        "# 분리된 X 확인 : 데이터 타입이 데이터프레임 확인\n",
        "X\n"
      ],
      "metadata": {
        "colab": {
          "base_uri": "https://localhost:8080/",
          "height": 423
        },
        "id": "Mn-HcV07Jdhk",
        "outputId": "ec159fe1-9381-4ce9-c200-597d3e9e96ea"
      },
      "execution_count": 18,
      "outputs": [
        {
          "output_type": "execute_result",
          "data": {
            "text/plain": [
              "     sepal_length  sepal_width  petal_length  petal_width\n",
              "0             5.1          3.5           1.4          0.2\n",
              "1             4.9          3.0           1.4          0.2\n",
              "2             4.7          3.2           1.3          0.2\n",
              "3             4.6          3.1           1.5          0.2\n",
              "4             5.0          3.6           1.4          0.2\n",
              "..            ...          ...           ...          ...\n",
              "145           6.7          3.0           5.2          2.3\n",
              "146           6.3          2.5           5.0          1.9\n",
              "147           6.5          3.0           5.2          2.0\n",
              "148           6.2          3.4           5.4          2.3\n",
              "149           5.9          3.0           5.1          1.8\n",
              "\n",
              "[150 rows x 4 columns]"
            ],
            "text/html": [
              "\n",
              "  <div id=\"df-5f495be4-24ba-4787-b2c7-b6e66deeb63e\" class=\"colab-df-container\">\n",
              "    <div>\n",
              "<style scoped>\n",
              "    .dataframe tbody tr th:only-of-type {\n",
              "        vertical-align: middle;\n",
              "    }\n",
              "\n",
              "    .dataframe tbody tr th {\n",
              "        vertical-align: top;\n",
              "    }\n",
              "\n",
              "    .dataframe thead th {\n",
              "        text-align: right;\n",
              "    }\n",
              "</style>\n",
              "<table border=\"1\" class=\"dataframe\">\n",
              "  <thead>\n",
              "    <tr style=\"text-align: right;\">\n",
              "      <th></th>\n",
              "      <th>sepal_length</th>\n",
              "      <th>sepal_width</th>\n",
              "      <th>petal_length</th>\n",
              "      <th>petal_width</th>\n",
              "    </tr>\n",
              "  </thead>\n",
              "  <tbody>\n",
              "    <tr>\n",
              "      <th>0</th>\n",
              "      <td>5.1</td>\n",
              "      <td>3.5</td>\n",
              "      <td>1.4</td>\n",
              "      <td>0.2</td>\n",
              "    </tr>\n",
              "    <tr>\n",
              "      <th>1</th>\n",
              "      <td>4.9</td>\n",
              "      <td>3.0</td>\n",
              "      <td>1.4</td>\n",
              "      <td>0.2</td>\n",
              "    </tr>\n",
              "    <tr>\n",
              "      <th>2</th>\n",
              "      <td>4.7</td>\n",
              "      <td>3.2</td>\n",
              "      <td>1.3</td>\n",
              "      <td>0.2</td>\n",
              "    </tr>\n",
              "    <tr>\n",
              "      <th>3</th>\n",
              "      <td>4.6</td>\n",
              "      <td>3.1</td>\n",
              "      <td>1.5</td>\n",
              "      <td>0.2</td>\n",
              "    </tr>\n",
              "    <tr>\n",
              "      <th>4</th>\n",
              "      <td>5.0</td>\n",
              "      <td>3.6</td>\n",
              "      <td>1.4</td>\n",
              "      <td>0.2</td>\n",
              "    </tr>\n",
              "    <tr>\n",
              "      <th>...</th>\n",
              "      <td>...</td>\n",
              "      <td>...</td>\n",
              "      <td>...</td>\n",
              "      <td>...</td>\n",
              "    </tr>\n",
              "    <tr>\n",
              "      <th>145</th>\n",
              "      <td>6.7</td>\n",
              "      <td>3.0</td>\n",
              "      <td>5.2</td>\n",
              "      <td>2.3</td>\n",
              "    </tr>\n",
              "    <tr>\n",
              "      <th>146</th>\n",
              "      <td>6.3</td>\n",
              "      <td>2.5</td>\n",
              "      <td>5.0</td>\n",
              "      <td>1.9</td>\n",
              "    </tr>\n",
              "    <tr>\n",
              "      <th>147</th>\n",
              "      <td>6.5</td>\n",
              "      <td>3.0</td>\n",
              "      <td>5.2</td>\n",
              "      <td>2.0</td>\n",
              "    </tr>\n",
              "    <tr>\n",
              "      <th>148</th>\n",
              "      <td>6.2</td>\n",
              "      <td>3.4</td>\n",
              "      <td>5.4</td>\n",
              "      <td>2.3</td>\n",
              "    </tr>\n",
              "    <tr>\n",
              "      <th>149</th>\n",
              "      <td>5.9</td>\n",
              "      <td>3.0</td>\n",
              "      <td>5.1</td>\n",
              "      <td>1.8</td>\n",
              "    </tr>\n",
              "  </tbody>\n",
              "</table>\n",
              "<p>150 rows × 4 columns</p>\n",
              "</div>\n",
              "    <div class=\"colab-df-buttons\">\n",
              "\n",
              "  <div class=\"colab-df-container\">\n",
              "    <button class=\"colab-df-convert\" onclick=\"convertToInteractive('df-5f495be4-24ba-4787-b2c7-b6e66deeb63e')\"\n",
              "            title=\"Convert this dataframe to an interactive table.\"\n",
              "            style=\"display:none;\">\n",
              "\n",
              "  <svg xmlns=\"http://www.w3.org/2000/svg\" height=\"24px\" viewBox=\"0 -960 960 960\">\n",
              "    <path d=\"M120-120v-720h720v720H120Zm60-500h600v-160H180v160Zm220 220h160v-160H400v160Zm0 220h160v-160H400v160ZM180-400h160v-160H180v160Zm440 0h160v-160H620v160ZM180-180h160v-160H180v160Zm440 0h160v-160H620v160Z\"/>\n",
              "  </svg>\n",
              "    </button>\n",
              "\n",
              "  <style>\n",
              "    .colab-df-container {\n",
              "      display:flex;\n",
              "      gap: 12px;\n",
              "    }\n",
              "\n",
              "    .colab-df-convert {\n",
              "      background-color: #E8F0FE;\n",
              "      border: none;\n",
              "      border-radius: 50%;\n",
              "      cursor: pointer;\n",
              "      display: none;\n",
              "      fill: #1967D2;\n",
              "      height: 32px;\n",
              "      padding: 0 0 0 0;\n",
              "      width: 32px;\n",
              "    }\n",
              "\n",
              "    .colab-df-convert:hover {\n",
              "      background-color: #E2EBFA;\n",
              "      box-shadow: 0px 1px 2px rgba(60, 64, 67, 0.3), 0px 1px 3px 1px rgba(60, 64, 67, 0.15);\n",
              "      fill: #174EA6;\n",
              "    }\n",
              "\n",
              "    .colab-df-buttons div {\n",
              "      margin-bottom: 4px;\n",
              "    }\n",
              "\n",
              "    [theme=dark] .colab-df-convert {\n",
              "      background-color: #3B4455;\n",
              "      fill: #D2E3FC;\n",
              "    }\n",
              "\n",
              "    [theme=dark] .colab-df-convert:hover {\n",
              "      background-color: #434B5C;\n",
              "      box-shadow: 0px 1px 3px 1px rgba(0, 0, 0, 0.15);\n",
              "      filter: drop-shadow(0px 1px 2px rgba(0, 0, 0, 0.3));\n",
              "      fill: #FFFFFF;\n",
              "    }\n",
              "  </style>\n",
              "\n",
              "    <script>\n",
              "      const buttonEl =\n",
              "        document.querySelector('#df-5f495be4-24ba-4787-b2c7-b6e66deeb63e button.colab-df-convert');\n",
              "      buttonEl.style.display =\n",
              "        google.colab.kernel.accessAllowed ? 'block' : 'none';\n",
              "\n",
              "      async function convertToInteractive(key) {\n",
              "        const element = document.querySelector('#df-5f495be4-24ba-4787-b2c7-b6e66deeb63e');\n",
              "        const dataTable =\n",
              "          await google.colab.kernel.invokeFunction('convertToInteractive',\n",
              "                                                    [key], {});\n",
              "        if (!dataTable) return;\n",
              "\n",
              "        const docLinkHtml = 'Like what you see? Visit the ' +\n",
              "          '<a target=\"_blank\" href=https://colab.research.google.com/notebooks/data_table.ipynb>data table notebook</a>'\n",
              "          + ' to learn more about interactive tables.';\n",
              "        element.innerHTML = '';\n",
              "        dataTable['output_type'] = 'display_data';\n",
              "        await google.colab.output.renderOutput(dataTable, element);\n",
              "        const docLink = document.createElement('div');\n",
              "        docLink.innerHTML = docLinkHtml;\n",
              "        element.appendChild(docLink);\n",
              "      }\n",
              "    </script>\n",
              "  </div>\n",
              "\n",
              "\n",
              "<div id=\"df-6e680d0d-0053-4dcf-b762-4d64704b6f9e\">\n",
              "  <button class=\"colab-df-quickchart\" onclick=\"quickchart('df-6e680d0d-0053-4dcf-b762-4d64704b6f9e')\"\n",
              "            title=\"Suggest charts\"\n",
              "            style=\"display:none;\">\n",
              "\n",
              "<svg xmlns=\"http://www.w3.org/2000/svg\" height=\"24px\"viewBox=\"0 0 24 24\"\n",
              "     width=\"24px\">\n",
              "    <g>\n",
              "        <path d=\"M19 3H5c-1.1 0-2 .9-2 2v14c0 1.1.9 2 2 2h14c1.1 0 2-.9 2-2V5c0-1.1-.9-2-2-2zM9 17H7v-7h2v7zm4 0h-2V7h2v10zm4 0h-2v-4h2v4z\"/>\n",
              "    </g>\n",
              "</svg>\n",
              "  </button>\n",
              "\n",
              "<style>\n",
              "  .colab-df-quickchart {\n",
              "      --bg-color: #E8F0FE;\n",
              "      --fill-color: #1967D2;\n",
              "      --hover-bg-color: #E2EBFA;\n",
              "      --hover-fill-color: #174EA6;\n",
              "      --disabled-fill-color: #AAA;\n",
              "      --disabled-bg-color: #DDD;\n",
              "  }\n",
              "\n",
              "  [theme=dark] .colab-df-quickchart {\n",
              "      --bg-color: #3B4455;\n",
              "      --fill-color: #D2E3FC;\n",
              "      --hover-bg-color: #434B5C;\n",
              "      --hover-fill-color: #FFFFFF;\n",
              "      --disabled-bg-color: #3B4455;\n",
              "      --disabled-fill-color: #666;\n",
              "  }\n",
              "\n",
              "  .colab-df-quickchart {\n",
              "    background-color: var(--bg-color);\n",
              "    border: none;\n",
              "    border-radius: 50%;\n",
              "    cursor: pointer;\n",
              "    display: none;\n",
              "    fill: var(--fill-color);\n",
              "    height: 32px;\n",
              "    padding: 0;\n",
              "    width: 32px;\n",
              "  }\n",
              "\n",
              "  .colab-df-quickchart:hover {\n",
              "    background-color: var(--hover-bg-color);\n",
              "    box-shadow: 0 1px 2px rgba(60, 64, 67, 0.3), 0 1px 3px 1px rgba(60, 64, 67, 0.15);\n",
              "    fill: var(--button-hover-fill-color);\n",
              "  }\n",
              "\n",
              "  .colab-df-quickchart-complete:disabled,\n",
              "  .colab-df-quickchart-complete:disabled:hover {\n",
              "    background-color: var(--disabled-bg-color);\n",
              "    fill: var(--disabled-fill-color);\n",
              "    box-shadow: none;\n",
              "  }\n",
              "\n",
              "  .colab-df-spinner {\n",
              "    border: 2px solid var(--fill-color);\n",
              "    border-color: transparent;\n",
              "    border-bottom-color: var(--fill-color);\n",
              "    animation:\n",
              "      spin 1s steps(1) infinite;\n",
              "  }\n",
              "\n",
              "  @keyframes spin {\n",
              "    0% {\n",
              "      border-color: transparent;\n",
              "      border-bottom-color: var(--fill-color);\n",
              "      border-left-color: var(--fill-color);\n",
              "    }\n",
              "    20% {\n",
              "      border-color: transparent;\n",
              "      border-left-color: var(--fill-color);\n",
              "      border-top-color: var(--fill-color);\n",
              "    }\n",
              "    30% {\n",
              "      border-color: transparent;\n",
              "      border-left-color: var(--fill-color);\n",
              "      border-top-color: var(--fill-color);\n",
              "      border-right-color: var(--fill-color);\n",
              "    }\n",
              "    40% {\n",
              "      border-color: transparent;\n",
              "      border-right-color: var(--fill-color);\n",
              "      border-top-color: var(--fill-color);\n",
              "    }\n",
              "    60% {\n",
              "      border-color: transparent;\n",
              "      border-right-color: var(--fill-color);\n",
              "    }\n",
              "    80% {\n",
              "      border-color: transparent;\n",
              "      border-right-color: var(--fill-color);\n",
              "      border-bottom-color: var(--fill-color);\n",
              "    }\n",
              "    90% {\n",
              "      border-color: transparent;\n",
              "      border-bottom-color: var(--fill-color);\n",
              "    }\n",
              "  }\n",
              "</style>\n",
              "\n",
              "  <script>\n",
              "    async function quickchart(key) {\n",
              "      const quickchartButtonEl =\n",
              "        document.querySelector('#' + key + ' button');\n",
              "      quickchartButtonEl.disabled = true;  // To prevent multiple clicks.\n",
              "      quickchartButtonEl.classList.add('colab-df-spinner');\n",
              "      try {\n",
              "        const charts = await google.colab.kernel.invokeFunction(\n",
              "            'suggestCharts', [key], {});\n",
              "      } catch (error) {\n",
              "        console.error('Error during call to suggestCharts:', error);\n",
              "      }\n",
              "      quickchartButtonEl.classList.remove('colab-df-spinner');\n",
              "      quickchartButtonEl.classList.add('colab-df-quickchart-complete');\n",
              "    }\n",
              "    (() => {\n",
              "      let quickchartButtonEl =\n",
              "        document.querySelector('#df-6e680d0d-0053-4dcf-b762-4d64704b6f9e button');\n",
              "      quickchartButtonEl.style.display =\n",
              "        google.colab.kernel.accessAllowed ? 'block' : 'none';\n",
              "    })();\n",
              "  </script>\n",
              "</div>\n",
              "\n",
              "  <div id=\"id_a36bc0d5-947a-4bfd-8374-1366766171e4\">\n",
              "    <style>\n",
              "      .colab-df-generate {\n",
              "        background-color: #E8F0FE;\n",
              "        border: none;\n",
              "        border-radius: 50%;\n",
              "        cursor: pointer;\n",
              "        display: none;\n",
              "        fill: #1967D2;\n",
              "        height: 32px;\n",
              "        padding: 0 0 0 0;\n",
              "        width: 32px;\n",
              "      }\n",
              "\n",
              "      .colab-df-generate:hover {\n",
              "        background-color: #E2EBFA;\n",
              "        box-shadow: 0px 1px 2px rgba(60, 64, 67, 0.3), 0px 1px 3px 1px rgba(60, 64, 67, 0.15);\n",
              "        fill: #174EA6;\n",
              "      }\n",
              "\n",
              "      [theme=dark] .colab-df-generate {\n",
              "        background-color: #3B4455;\n",
              "        fill: #D2E3FC;\n",
              "      }\n",
              "\n",
              "      [theme=dark] .colab-df-generate:hover {\n",
              "        background-color: #434B5C;\n",
              "        box-shadow: 0px 1px 3px 1px rgba(0, 0, 0, 0.15);\n",
              "        filter: drop-shadow(0px 1px 2px rgba(0, 0, 0, 0.3));\n",
              "        fill: #FFFFFF;\n",
              "      }\n",
              "    </style>\n",
              "    <button class=\"colab-df-generate\" onclick=\"generateWithVariable('X')\"\n",
              "            title=\"Generate code using this dataframe.\"\n",
              "            style=\"display:none;\">\n",
              "\n",
              "  <svg xmlns=\"http://www.w3.org/2000/svg\" height=\"24px\"viewBox=\"0 0 24 24\"\n",
              "       width=\"24px\">\n",
              "    <path d=\"M7,19H8.4L18.45,9,17,7.55,7,17.6ZM5,21V16.75L18.45,3.32a2,2,0,0,1,2.83,0l1.4,1.43a1.91,1.91,0,0,1,.58,1.4,1.91,1.91,0,0,1-.58,1.4L9.25,21ZM18.45,9,17,7.55Zm-12,3A5.31,5.31,0,0,0,4.9,8.1,5.31,5.31,0,0,0,1,6.5,5.31,5.31,0,0,0,4.9,4.9,5.31,5.31,0,0,0,6.5,1,5.31,5.31,0,0,0,8.1,4.9,5.31,5.31,0,0,0,12,6.5,5.46,5.46,0,0,0,6.5,12Z\"/>\n",
              "  </svg>\n",
              "    </button>\n",
              "    <script>\n",
              "      (() => {\n",
              "      const buttonEl =\n",
              "        document.querySelector('#id_a36bc0d5-947a-4bfd-8374-1366766171e4 button.colab-df-generate');\n",
              "      buttonEl.style.display =\n",
              "        google.colab.kernel.accessAllowed ? 'block' : 'none';\n",
              "\n",
              "      buttonEl.onclick = () => {\n",
              "        google.colab.notebook.generateWithVariable('X');\n",
              "      }\n",
              "      })();\n",
              "    </script>\n",
              "  </div>\n",
              "\n",
              "    </div>\n",
              "  </div>\n"
            ],
            "application/vnd.google.colaboratory.intrinsic+json": {
              "type": "dataframe",
              "variable_name": "X",
              "summary": "{\n  \"name\": \"X\",\n  \"rows\": 150,\n  \"fields\": [\n    {\n      \"column\": \"sepal_length\",\n      \"properties\": {\n        \"dtype\": \"number\",\n        \"std\": 0.828066127977863,\n        \"min\": 4.3,\n        \"max\": 7.9,\n        \"num_unique_values\": 35,\n        \"samples\": [\n          6.2,\n          4.5,\n          5.6\n        ],\n        \"semantic_type\": \"\",\n        \"description\": \"\"\n      }\n    },\n    {\n      \"column\": \"sepal_width\",\n      \"properties\": {\n        \"dtype\": \"number\",\n        \"std\": 0.4358662849366982,\n        \"min\": 2.0,\n        \"max\": 4.4,\n        \"num_unique_values\": 23,\n        \"samples\": [\n          2.3,\n          4.0,\n          3.5\n        ],\n        \"semantic_type\": \"\",\n        \"description\": \"\"\n      }\n    },\n    {\n      \"column\": \"petal_length\",\n      \"properties\": {\n        \"dtype\": \"number\",\n        \"std\": 1.7652982332594662,\n        \"min\": 1.0,\n        \"max\": 6.9,\n        \"num_unique_values\": 43,\n        \"samples\": [\n          6.7,\n          3.8,\n          3.7\n        ],\n        \"semantic_type\": \"\",\n        \"description\": \"\"\n      }\n    },\n    {\n      \"column\": \"petal_width\",\n      \"properties\": {\n        \"dtype\": \"number\",\n        \"std\": 0.7622376689603465,\n        \"min\": 0.1,\n        \"max\": 2.5,\n        \"num_unique_values\": 22,\n        \"samples\": [\n          0.2,\n          1.2,\n          1.3\n        ],\n        \"semantic_type\": \"\",\n        \"description\": \"\"\n      }\n    }\n  ]\n}"
            }
          },
          "metadata": {},
          "execution_count": 18
        }
      ]
    },
    {
      "cell_type": "code",
      "source": [
        "# y 분리 : 'species' 컬럼값만 분리\n",
        "y = iris['species']\n"
      ],
      "metadata": {
        "id": "hh6e4OZlJdkc"
      },
      "execution_count": 19,
      "outputs": []
    },
    {
      "cell_type": "code",
      "source": [
        "# 분리된 y 확인 : 데이터 타입이 Series 확인\n",
        "# y 값이 문자열로 되어 있음 확인\n",
        "y\n",
        "\n"
      ],
      "metadata": {
        "colab": {
          "base_uri": "https://localhost:8080/"
        },
        "id": "Ljxia0PhJdnF",
        "outputId": "dd59a549-e52d-44b1-a6aa-89b9d32b4db3"
      },
      "execution_count": 20,
      "outputs": [
        {
          "output_type": "execute_result",
          "data": {
            "text/plain": [
              "0         setosa\n",
              "1         setosa\n",
              "2         setosa\n",
              "3         setosa\n",
              "4         setosa\n",
              "         ...    \n",
              "145    virginica\n",
              "146    virginica\n",
              "147    virginica\n",
              "148    virginica\n",
              "149    virginica\n",
              "Name: species, Length: 150, dtype: object"
            ]
          },
          "metadata": {},
          "execution_count": 20
        }
      ]
    },
    {
      "cell_type": "code",
      "source": [
        "# Series, DataFrame 형태를 numpy array 변경하기\n",
        "# 뒤쪽에서 타입이 맞지 않아서 에러 날수 있기 때문에\n",
        "# X.values , y.values --> X , y 입력\n",
        "X = X.values\n",
        "y = y.values\n"
      ],
      "metadata": {
        "id": "-kLzENc671o4"
      },
      "execution_count": 21,
      "outputs": []
    },
    {
      "cell_type": "code",
      "source": [
        "print(X[:2])\n",
        "print(y[:2])"
      ],
      "metadata": {
        "colab": {
          "base_uri": "https://localhost:8080/"
        },
        "id": "HwjKovQR74xz",
        "outputId": "5f6abcf8-604f-4099-821a-a703bfab973f"
      },
      "execution_count": 22,
      "outputs": [
        {
          "output_type": "stream",
          "name": "stdout",
          "text": [
            "[[5.1 3.5 1.4 0.2]\n",
            " [4.9 3.  1.4 0.2]]\n",
            "['setosa' 'setosa']\n"
          ]
        }
      ]
    },
    {
      "cell_type": "code",
      "source": [
        "# y값이 숫자가 아니기에 컴퓨터가 잘 이해하지 못해 숫자로 변환\n",
        "# setosa --> 0, versicolor --> 1, virginica --> 2 : LabelEncoding\n",
        "\n",
        "from sklearn.preprocessing import LabelEncoder"
      ],
      "metadata": {
        "id": "le1exTjdgshL"
      },
      "execution_count": 23,
      "outputs": []
    },
    {
      "cell_type": "code",
      "source": [
        "# 1. LabelEncoder 함수 정의 : le\n",
        "# 2. y값에 대해 fit_transform 함수 이용해서 라벨인코딩 수행하고 다시 y에 저장\n",
        "# 3. le.classes_ 출력해서 어떤 라벨들이 인코딩 되었는지 확인\n",
        "le = LabelEncoder()\n",
        "y = le.fit_transform(y)\n",
        "print(le.classes_)\n",
        "\n",
        "\n"
      ],
      "metadata": {
        "colab": {
          "base_uri": "https://localhost:8080/"
        },
        "id": "rqGnqD9y7W4N",
        "outputId": "899d68cc-16c9-4a82-a902-c3a9c830dee2"
      },
      "execution_count": 24,
      "outputs": [
        {
          "output_type": "stream",
          "name": "stdout",
          "text": [
            "['setosa' 'versicolor' 'virginica']\n"
          ]
        }
      ]
    },
    {
      "cell_type": "code",
      "source": [
        "# y값들이 라벨인코딩되어 숫자로 표현됨 확인\n",
        "\n",
        "y[:10]"
      ],
      "metadata": {
        "colab": {
          "base_uri": "https://localhost:8080/"
        },
        "id": "AXSTso9o8FpV",
        "outputId": "7f082e12-3abb-4594-edcf-4be8bac94c07"
      },
      "execution_count": 25,
      "outputs": [
        {
          "output_type": "execute_result",
          "data": {
            "text/plain": [
              "array([0, 0, 0, 0, 0, 0, 0, 0, 0, 0])"
            ]
          },
          "metadata": {},
          "execution_count": 25
        }
      ]
    },
    {
      "cell_type": "markdown",
      "source": [
        "# 4. Train , Test 데이터셋 나누기\n",
        "- 데이터를 가지고 모델을 학습 시키고 나서 모델 평가를 해야 하는데\n",
        "- 모델이 학습한 데이터를 가지고 평가를 하지 않고\n",
        "- 모델이 모르는 데이터로 평가를 해야 공정하고 평가 결과가 잘 나온다면 배포(일반화) 가능하다."
      ],
      "metadata": {
        "id": "yv2O9eSjTwTP"
      }
    },
    {
      "cell_type": "code",
      "source": [
        "# Train / Test 데이터셋 나누어주는 함수 : train_test_split\n",
        "\n",
        "from sklearn.model_selection import train_test_split"
      ],
      "metadata": {
        "id": "67EKq0wtT-Ip"
      },
      "execution_count": 26,
      "outputs": []
    },
    {
      "cell_type": "code",
      "source": [
        "# train_test_split 함수 활용\n",
        "# 입력 : X, y\n",
        "# Train : Test => 8 : 2  비율로 나누기 : test_size=0.2\n",
        "# Train 데이터와 Test 데이터에 y가 쏠리지 않도록 하기 : stratify=y\n",
        "# 매번 같은 결과 나오도록 값 고정 : random_state=42\n",
        "# 결과 저장 : X_train, X_test, y_train, y_test\n",
        "X_train, X_test, y_train, y_test = train_test_split(X, y, test_size=0.2, stratify=y,random_state=42)\n",
        "\n"
      ],
      "metadata": {
        "id": "Nvn0qV7AT-EP"
      },
      "execution_count": 27,
      "outputs": []
    },
    {
      "cell_type": "code",
      "source": [
        "# Train 과 Test 데이터셋 사이즈 확인\n",
        "# X_train.shape, X_test.shape, y_train.shape, y_test.shape 확인\n",
        "\n",
        "X_train.shape, X_test.shape, y_train.shape, y_test.shape"
      ],
      "metadata": {
        "id": "XF2C537KT-Bp",
        "colab": {
          "base_uri": "https://localhost:8080/"
        },
        "outputId": "afe6a7d3-9e83-4e26-e9eb-6460a5cf92ac"
      },
      "execution_count": 28,
      "outputs": [
        {
          "output_type": "execute_result",
          "data": {
            "text/plain": [
              "((120, 4), (30, 4), (120,), (30,))"
            ]
          },
          "metadata": {},
          "execution_count": 28
        }
      ]
    },
    {
      "cell_type": "markdown",
      "source": [
        "---"
      ],
      "metadata": {
        "id": "D09MIrrx4XPT"
      }
    },
    {
      "cell_type": "markdown",
      "source": [
        "# 5. 머신러닝 모델링\n",
        "- DecisionTree 결정트리\n",
        "- RandomForest 앙상블"
      ],
      "metadata": {
        "id": "fn-wa12h4XkZ"
      }
    },
    {
      "cell_type": "markdown",
      "source": [
        "#### DecisionTree"
      ],
      "metadata": {
        "id": "QjxLNoAM9Y48"
      }
    },
    {
      "cell_type": "markdown",
      "source": [
        "![결정트리](https://github.com/gzone1357/Image1/raw/main/tree-depth-2.png)"
      ],
      "metadata": {
        "id": "U5m8_YDK47kF"
      }
    },
    {
      "cell_type": "code",
      "source": [
        "# DecisionTree 머신러닝 모델링\n",
        "from sklearn.tree import DecisionTreeClassifier"
      ],
      "metadata": {
        "id": "p_Y2A6im6H7m"
      },
      "execution_count": 29,
      "outputs": []
    },
    {
      "cell_type": "code",
      "source": [
        "# 1. DecisionTreeClassifier 모델 정의 -> dt 저장\n",
        "# 2. dt 모델 학습 : X_train, y_train\n",
        "# 3. dt 모델 성능확인 : X_test, y_test\n",
        "dt = DecisionTreeClassifier()\n",
        "dt.fit(X_train, y_train)\n",
        "dt.score(X_test, y_test)"
      ],
      "metadata": {
        "colab": {
          "base_uri": "https://localhost:8080/"
        },
        "id": "dQ6Up1i6Jdqs",
        "outputId": "758a7b74-a998-466d-9e8d-4b27fc7a243e"
      },
      "execution_count": 30,
      "outputs": [
        {
          "output_type": "execute_result",
          "data": {
            "text/plain": [
              "0.9666666666666667"
            ]
          },
          "metadata": {},
          "execution_count": 30
        }
      ]
    },
    {
      "cell_type": "markdown",
      "source": [
        "#### RandomForest"
      ],
      "metadata": {
        "id": "M5rch0yM9c1b"
      }
    },
    {
      "cell_type": "markdown",
      "source": [
        "![RandomForest](https://github.com/gzone1357/Image1/raw/main/rf.png)"
      ],
      "metadata": {
        "id": "fb45zXH99gzk"
      }
    },
    {
      "cell_type": "code",
      "source": [
        "# RandomForest 머신러닝 모델링\n",
        "from sklearn.ensemble import RandomForestClassifier"
      ],
      "metadata": {
        "id": "h0H_nWss6Y6N"
      },
      "execution_count": 31,
      "outputs": []
    },
    {
      "cell_type": "code",
      "source": [
        "# 1. RandomForestClassifier 모델 정의 -> rf 저장\n",
        "# 2. rf 모델 학습 : X_train, y_train\n",
        "# 3. rf 모델 성능확인 : X_test, y_test\n",
        "rf = RandomForestClassifier()\n",
        "rf.fit(X_train, y_train)\n",
        "rf.score(X_test, y_test)"
      ],
      "metadata": {
        "colab": {
          "base_uri": "https://localhost:8080/"
        },
        "id": "zN6yO2Zj9f5D",
        "outputId": "40c6d328-21da-4d15-ecbf-9cd02de297ca"
      },
      "execution_count": 33,
      "outputs": [
        {
          "output_type": "execute_result",
          "data": {
            "text/plain": [
              "0.9333333333333333"
            ]
          },
          "metadata": {},
          "execution_count": 33
        }
      ]
    },
    {
      "cell_type": "code",
      "source": [
        "rf.predict(X)"
      ],
      "metadata": {
        "colab": {
          "base_uri": "https://localhost:8080/"
        },
        "id": "uGttRcJxZ7lx",
        "outputId": "b37be86a-adf1-4fda-ea78-ed88b1b5d4da"
      },
      "execution_count": 34,
      "outputs": [
        {
          "output_type": "execute_result",
          "data": {
            "text/plain": [
              "array([0, 0, 0, 0, 0, 0, 0, 0, 0, 0, 0, 0, 0, 0, 0, 0, 0, 0, 0, 0, 0, 0,\n",
              "       0, 0, 0, 0, 0, 0, 0, 0, 0, 0, 0, 0, 0, 0, 0, 0, 0, 0, 0, 0, 0, 0,\n",
              "       0, 0, 0, 0, 0, 0, 1, 1, 1, 1, 1, 1, 1, 1, 1, 1, 1, 1, 1, 1, 1, 1,\n",
              "       1, 1, 1, 1, 1, 1, 1, 1, 1, 1, 1, 2, 1, 1, 1, 1, 1, 1, 1, 1, 1, 1,\n",
              "       1, 1, 1, 1, 1, 1, 1, 1, 1, 1, 1, 1, 2, 2, 2, 2, 2, 2, 2, 2, 2, 2,\n",
              "       2, 2, 2, 2, 2, 2, 2, 2, 2, 2, 2, 2, 2, 2, 2, 2, 2, 2, 2, 2, 2, 2,\n",
              "       2, 2, 1, 2, 2, 2, 2, 2, 2, 2, 2, 2, 2, 2, 2, 2, 2, 2])"
            ]
          },
          "metadata": {},
          "execution_count": 34
        }
      ]
    },
    {
      "cell_type": "code",
      "source": [
        "# X_test 첫라인 샘플 데이터 와 정답 출력\n",
        "# setosa --> 0, versicolor --> 1, virginica --> 2\n",
        "\n",
        "print(X_test[0:1])\n",
        "print(y_test[0:1])"
      ],
      "metadata": {
        "colab": {
          "base_uri": "https://localhost:8080/"
        },
        "outputId": "df4fd651-c2ad-4f4d-ade2-bd11a06e6882",
        "id": "cNAf_wAoJ7Pg"
      },
      "execution_count": 35,
      "outputs": [
        {
          "output_type": "stream",
          "name": "stdout",
          "text": [
            "[[4.4 3.  1.3 0.2]]\n",
            "[0]\n"
          ]
        }
      ]
    },
    {
      "cell_type": "code",
      "source": [
        "# X_test 첫라인 샘플 데이터을 모델 입력해서 예측하기\n",
        "# rf 모델의 predict 함수 활용\n",
        "# 입력 : X_test[0:1], 결과 : pred 저장\n",
        "# pred 결과 출력\n",
        "pred = rf.predict(X_test[0:1])\n",
        "print(pred)"
      ],
      "metadata": {
        "colab": {
          "base_uri": "https://localhost:8080/"
        },
        "outputId": "89cf24bf-0b27-494d-b5b7-c086fb8e240c",
        "id": "MxVXHhaGJ7Pr"
      },
      "execution_count": 36,
      "outputs": [
        {
          "output_type": "stream",
          "name": "stdout",
          "text": [
            "[0]\n"
          ]
        }
      ]
    },
    {
      "cell_type": "markdown",
      "source": [
        "---"
      ],
      "metadata": {
        "id": "1U_4IXyG5WJf"
      }
    },
    {
      "cell_type": "markdown",
      "source": [
        "# 6. 딥러닝 모델링"
      ],
      "metadata": {
        "id": "9tXPnSlN5WCw"
      }
    },
    {
      "cell_type": "code",
      "source": [
        "# 딥러닝 필요한 라이브러리 가져오기\n",
        "\n",
        "import tensorflow as tf\n",
        "from tensorflow.keras.models import Sequential\n",
        "from tensorflow.keras.layers import Dense"
      ],
      "metadata": {
        "id": "yGZebTd6FYii"
      },
      "execution_count": 37,
      "outputs": []
    },
    {
      "cell_type": "markdown",
      "source": [
        "![DNN](https://github.com/gzone1357/Image1/raw/main/iris.png)"
      ],
      "metadata": {
        "id": "TSCCMe-o5gyW"
      }
    },
    {
      "cell_type": "code",
      "source": [
        "# Sequential 모델 만들기 --> model 변수 저장\n",
        "# input layer : (4, )\n",
        "# hidden layer : 6 unit , activation='relu'\n",
        "# output layer : 3 unit , activation='softmax'\n",
        "model = Sequential()\n",
        "model.add(Dense(6, activation='relu', input_shape=(4,)))\n",
        "model.add(Dense(3, activation='softmax'))"
      ],
      "metadata": {
        "id": "Q9oj9TspFYla"
      },
      "execution_count": 38,
      "outputs": []
    },
    {
      "cell_type": "code",
      "source": [
        "# 모델 컴파일 : compile\n",
        "# loss='sparse_categorical_crossentropy'\n",
        "# optimizer='adam'\n",
        "# metrics=['accuracy']\n",
        "model.compile(loss='sparse_categorical_crossentropy', optimizer='adam', metrics=['accuracy'])\n"
      ],
      "metadata": {
        "id": "GH1c25hG5lx-"
      },
      "execution_count": 39,
      "outputs": []
    },
    {
      "cell_type": "code",
      "source": [
        "# 모델 학습 : fit\n",
        "# X_train, y_train, epochs=10, batch_size=8\n",
        "# 학습결과 저장 : history\n",
        "\n",
        "history = model.fit(X_train, y_train, epochs=10, batch_size=8)\n"
      ],
      "metadata": {
        "colab": {
          "base_uri": "https://localhost:8080/"
        },
        "id": "k30Hv3Hp9IFh",
        "outputId": "dd259adc-d6e1-4ecc-920f-e72714c3745f"
      },
      "execution_count": 40,
      "outputs": [
        {
          "output_type": "stream",
          "name": "stdout",
          "text": [
            "Epoch 1/10\n",
            "15/15 [==============================] - 1s 4ms/step - loss: 3.4399 - accuracy: 0.3333\n",
            "Epoch 2/10\n",
            "15/15 [==============================] - 0s 3ms/step - loss: 3.0050 - accuracy: 0.3333\n",
            "Epoch 3/10\n",
            "15/15 [==============================] - 0s 2ms/step - loss: 2.5796 - accuracy: 0.3333\n",
            "Epoch 4/10\n",
            "15/15 [==============================] - 0s 2ms/step - loss: 2.2423 - accuracy: 0.3333\n",
            "Epoch 5/10\n",
            "15/15 [==============================] - 0s 2ms/step - loss: 1.9924 - accuracy: 0.3333\n",
            "Epoch 6/10\n",
            "15/15 [==============================] - 0s 3ms/step - loss: 1.7979 - accuracy: 0.2833\n",
            "Epoch 7/10\n",
            "15/15 [==============================] - 0s 2ms/step - loss: 1.6825 - accuracy: 0.1000\n",
            "Epoch 8/10\n",
            "15/15 [==============================] - 0s 3ms/step - loss: 1.5632 - accuracy: 0.0833\n",
            "Epoch 9/10\n",
            "15/15 [==============================] - 0s 3ms/step - loss: 1.4712 - accuracy: 0.0750\n",
            "Epoch 10/10\n",
            "15/15 [==============================] - 0s 2ms/step - loss: 1.3945 - accuracy: 0.0667\n"
          ]
        }
      ]
    },
    {
      "cell_type": "markdown",
      "source": [
        "### 생각보자 정확도가 높지않네.. 좀더 공부시키자.."
      ],
      "metadata": {
        "id": "kZD-Cc4nKjNl"
      }
    },
    {
      "cell_type": "code",
      "source": [
        "# epochs 횟수 증가하여 모델 학습 : fit\n",
        "# X_train, y_train, epochs=50, batch_size=8 --> epochs 50으로 변경\n",
        "# 학습결과 저장 : history\n",
        "history = model.fit(X_train, y_train, epochs=50, batch_size=50)\n"
      ],
      "metadata": {
        "colab": {
          "base_uri": "https://localhost:8080/"
        },
        "outputId": "f232ce38-05b5-418a-812d-6488c11757ad",
        "id": "C2WuAEWrKjNv"
      },
      "execution_count": 41,
      "outputs": [
        {
          "output_type": "stream",
          "name": "stdout",
          "text": [
            "Epoch 1/50\n",
            "3/3 [==============================] - 1s 8ms/step - loss: 1.3411 - accuracy: 0.0917\n",
            "Epoch 2/50\n",
            "3/3 [==============================] - 0s 7ms/step - loss: 1.3266 - accuracy: 0.1000\n",
            "Epoch 3/50\n",
            "3/3 [==============================] - 0s 7ms/step - loss: 1.3132 - accuracy: 0.1083\n",
            "Epoch 4/50\n",
            "3/3 [==============================] - 0s 5ms/step - loss: 1.2993 - accuracy: 0.1083\n",
            "Epoch 5/50\n",
            "3/3 [==============================] - 0s 6ms/step - loss: 1.2860 - accuracy: 0.1083\n",
            "Epoch 6/50\n",
            "3/3 [==============================] - 0s 6ms/step - loss: 1.2726 - accuracy: 0.1167\n",
            "Epoch 7/50\n",
            "3/3 [==============================] - 0s 5ms/step - loss: 1.2600 - accuracy: 0.1167\n",
            "Epoch 8/50\n",
            "3/3 [==============================] - 0s 5ms/step - loss: 1.2477 - accuracy: 0.1167\n",
            "Epoch 9/50\n",
            "3/3 [==============================] - 0s 6ms/step - loss: 1.2338 - accuracy: 0.1167\n",
            "Epoch 10/50\n",
            "3/3 [==============================] - 0s 5ms/step - loss: 1.2215 - accuracy: 0.1167\n",
            "Epoch 11/50\n",
            "3/3 [==============================] - 0s 8ms/step - loss: 1.2103 - accuracy: 0.1250\n",
            "Epoch 12/50\n",
            "3/3 [==============================] - 0s 5ms/step - loss: 1.1977 - accuracy: 0.1250\n",
            "Epoch 13/50\n",
            "3/3 [==============================] - 0s 5ms/step - loss: 1.1863 - accuracy: 0.1333\n",
            "Epoch 14/50\n",
            "3/3 [==============================] - 0s 6ms/step - loss: 1.1755 - accuracy: 0.1333\n",
            "Epoch 15/50\n",
            "3/3 [==============================] - 0s 5ms/step - loss: 1.1635 - accuracy: 0.1333\n",
            "Epoch 16/50\n",
            "3/3 [==============================] - 0s 5ms/step - loss: 1.1534 - accuracy: 0.1333\n",
            "Epoch 17/50\n",
            "3/3 [==============================] - 0s 5ms/step - loss: 1.1428 - accuracy: 0.1417\n",
            "Epoch 18/50\n",
            "3/3 [==============================] - 0s 5ms/step - loss: 1.1321 - accuracy: 0.1500\n",
            "Epoch 19/50\n",
            "3/3 [==============================] - 0s 5ms/step - loss: 1.1224 - accuracy: 0.1500\n",
            "Epoch 20/50\n",
            "3/3 [==============================] - 0s 5ms/step - loss: 1.1130 - accuracy: 0.1500\n",
            "Epoch 21/50\n",
            "3/3 [==============================] - 0s 5ms/step - loss: 1.1036 - accuracy: 0.1667\n",
            "Epoch 22/50\n",
            "3/3 [==============================] - 0s 6ms/step - loss: 1.0940 - accuracy: 0.1750\n",
            "Epoch 23/50\n",
            "3/3 [==============================] - 0s 6ms/step - loss: 1.0849 - accuracy: 0.1833\n",
            "Epoch 24/50\n",
            "3/3 [==============================] - 0s 6ms/step - loss: 1.0762 - accuracy: 0.2417\n",
            "Epoch 25/50\n",
            "3/3 [==============================] - 0s 6ms/step - loss: 1.0672 - accuracy: 0.2583\n",
            "Epoch 26/50\n",
            "3/3 [==============================] - 0s 5ms/step - loss: 1.0592 - accuracy: 0.2667\n",
            "Epoch 27/50\n",
            "3/3 [==============================] - 0s 5ms/step - loss: 1.0504 - accuracy: 0.2750\n",
            "Epoch 28/50\n",
            "3/3 [==============================] - 0s 5ms/step - loss: 1.0422 - accuracy: 0.2833\n",
            "Epoch 29/50\n",
            "3/3 [==============================] - 0s 5ms/step - loss: 1.0343 - accuracy: 0.2917\n",
            "Epoch 30/50\n",
            "3/3 [==============================] - 0s 5ms/step - loss: 1.0265 - accuracy: 0.2917\n",
            "Epoch 31/50\n",
            "3/3 [==============================] - 0s 5ms/step - loss: 1.0184 - accuracy: 0.2917\n",
            "Epoch 32/50\n",
            "3/3 [==============================] - 0s 5ms/step - loss: 1.0110 - accuracy: 0.2917\n",
            "Epoch 33/50\n",
            "3/3 [==============================] - 0s 5ms/step - loss: 1.0032 - accuracy: 0.3000\n",
            "Epoch 34/50\n",
            "3/3 [==============================] - 0s 7ms/step - loss: 0.9956 - accuracy: 0.3250\n",
            "Epoch 35/50\n",
            "3/3 [==============================] - 0s 7ms/step - loss: 0.9884 - accuracy: 0.4250\n",
            "Epoch 36/50\n",
            "3/3 [==============================] - 0s 7ms/step - loss: 0.9810 - accuracy: 0.5083\n",
            "Epoch 37/50\n",
            "3/3 [==============================] - 0s 7ms/step - loss: 0.9737 - accuracy: 0.5917\n",
            "Epoch 38/50\n",
            "3/3 [==============================] - 0s 7ms/step - loss: 0.9673 - accuracy: 0.6250\n",
            "Epoch 39/50\n",
            "3/3 [==============================] - 0s 10ms/step - loss: 0.9599 - accuracy: 0.6333\n",
            "Epoch 40/50\n",
            "3/3 [==============================] - 0s 8ms/step - loss: 0.9531 - accuracy: 0.6333\n",
            "Epoch 41/50\n",
            "3/3 [==============================] - 0s 6ms/step - loss: 0.9466 - accuracy: 0.6417\n",
            "Epoch 42/50\n",
            "3/3 [==============================] - 0s 7ms/step - loss: 0.9403 - accuracy: 0.6417\n",
            "Epoch 43/50\n",
            "3/3 [==============================] - 0s 8ms/step - loss: 0.9337 - accuracy: 0.6417\n",
            "Epoch 44/50\n",
            "3/3 [==============================] - 0s 8ms/step - loss: 0.9273 - accuracy: 0.6417\n",
            "Epoch 45/50\n",
            "3/3 [==============================] - 0s 7ms/step - loss: 0.9210 - accuracy: 0.6500\n",
            "Epoch 46/50\n",
            "3/3 [==============================] - 0s 6ms/step - loss: 0.9145 - accuracy: 0.6500\n",
            "Epoch 47/50\n",
            "3/3 [==============================] - 0s 9ms/step - loss: 0.9082 - accuracy: 0.6417\n",
            "Epoch 48/50\n",
            "3/3 [==============================] - 0s 8ms/step - loss: 0.9018 - accuracy: 0.6417\n",
            "Epoch 49/50\n",
            "3/3 [==============================] - 0s 8ms/step - loss: 0.8952 - accuracy: 0.6500\n",
            "Epoch 50/50\n",
            "3/3 [==============================] - 0s 7ms/step - loss: 0.8887 - accuracy: 0.6500\n"
          ]
        }
      ]
    },
    {
      "cell_type": "markdown",
      "source": [
        "### 이번에 모델 학습시 각 에포크 때마다 안본 데이터(Test)로 모델 평가해 보자!!\n",
        "\n"
      ],
      "metadata": {
        "id": "K79WEgOsKsKR"
      }
    },
    {
      "cell_type": "code",
      "source": [
        "# epochs 횟수 증가하여 모델 학습 : fit\n",
        "# X_train, y_train, epochs=50, batch_size=8 , validation_data=(X_test, y_test)\n",
        "# 학습결과 저장 : history\n",
        "history = model.fit(X_train, y_train, epochs=50, batch_size=8, validation_data=(X_test, y_test))"
      ],
      "metadata": {
        "colab": {
          "base_uri": "https://localhost:8080/"
        },
        "outputId": "2f66e59a-ceb2-433b-f9c2-3e2ffefe40e7",
        "id": "wXehZ6c5KsKa"
      },
      "execution_count": 43,
      "outputs": [
        {
          "output_type": "stream",
          "name": "stdout",
          "text": [
            "Epoch 1/50\n",
            "15/15 [==============================] - 0s 23ms/step - loss: 0.8681 - accuracy: 0.6667 - val_loss: 0.8522 - val_accuracy: 0.6667\n",
            "Epoch 2/50\n",
            "15/15 [==============================] - 0s 6ms/step - loss: 0.8367 - accuracy: 0.6667 - val_loss: 0.8219 - val_accuracy: 0.6667\n",
            "Epoch 3/50\n",
            "15/15 [==============================] - 0s 5ms/step - loss: 0.8094 - accuracy: 0.6667 - val_loss: 0.7966 - val_accuracy: 0.7333\n",
            "Epoch 4/50\n",
            "15/15 [==============================] - 0s 5ms/step - loss: 0.7876 - accuracy: 0.6667 - val_loss: 0.7747 - val_accuracy: 0.7333\n",
            "Epoch 5/50\n",
            "15/15 [==============================] - 0s 4ms/step - loss: 0.7666 - accuracy: 0.6917 - val_loss: 0.7557 - val_accuracy: 0.7333\n",
            "Epoch 6/50\n",
            "15/15 [==============================] - 0s 5ms/step - loss: 0.7485 - accuracy: 0.7417 - val_loss: 0.7382 - val_accuracy: 0.7667\n",
            "Epoch 7/50\n",
            "15/15 [==============================] - 0s 4ms/step - loss: 0.7329 - accuracy: 0.7083 - val_loss: 0.7218 - val_accuracy: 0.7333\n",
            "Epoch 8/50\n",
            "15/15 [==============================] - 0s 6ms/step - loss: 0.7178 - accuracy: 0.7000 - val_loss: 0.7068 - val_accuracy: 0.7333\n",
            "Epoch 9/50\n",
            "15/15 [==============================] - 0s 6ms/step - loss: 0.7021 - accuracy: 0.7667 - val_loss: 0.6915 - val_accuracy: 0.8000\n",
            "Epoch 10/50\n",
            "15/15 [==============================] - 0s 6ms/step - loss: 0.6872 - accuracy: 0.8417 - val_loss: 0.6773 - val_accuracy: 0.8000\n",
            "Epoch 11/50\n",
            "15/15 [==============================] - 0s 4ms/step - loss: 0.6747 - accuracy: 0.8333 - val_loss: 0.6645 - val_accuracy: 0.8000\n",
            "Epoch 12/50\n",
            "15/15 [==============================] - 0s 4ms/step - loss: 0.6611 - accuracy: 0.7833 - val_loss: 0.6520 - val_accuracy: 0.7667\n",
            "Epoch 13/50\n",
            "15/15 [==============================] - 0s 6ms/step - loss: 0.6496 - accuracy: 0.7667 - val_loss: 0.6406 - val_accuracy: 0.7667\n",
            "Epoch 14/50\n",
            "15/15 [==============================] - 0s 5ms/step - loss: 0.6380 - accuracy: 0.7583 - val_loss: 0.6296 - val_accuracy: 0.7667\n",
            "Epoch 15/50\n",
            "15/15 [==============================] - 0s 5ms/step - loss: 0.6273 - accuracy: 0.8000 - val_loss: 0.6191 - val_accuracy: 0.8000\n",
            "Epoch 16/50\n",
            "15/15 [==============================] - 0s 5ms/step - loss: 0.6179 - accuracy: 0.8500 - val_loss: 0.6089 - val_accuracy: 0.8667\n",
            "Epoch 17/50\n",
            "15/15 [==============================] - 0s 6ms/step - loss: 0.6069 - accuracy: 0.8667 - val_loss: 0.5993 - val_accuracy: 0.8667\n",
            "Epoch 18/50\n",
            "15/15 [==============================] - 0s 5ms/step - loss: 0.5972 - accuracy: 0.8500 - val_loss: 0.5904 - val_accuracy: 0.8000\n",
            "Epoch 19/50\n",
            "15/15 [==============================] - 0s 6ms/step - loss: 0.5884 - accuracy: 0.8167 - val_loss: 0.5815 - val_accuracy: 0.8000\n",
            "Epoch 20/50\n",
            "15/15 [==============================] - 0s 7ms/step - loss: 0.5795 - accuracy: 0.8250 - val_loss: 0.5732 - val_accuracy: 0.8000\n",
            "Epoch 21/50\n",
            "15/15 [==============================] - 0s 6ms/step - loss: 0.5713 - accuracy: 0.8250 - val_loss: 0.5649 - val_accuracy: 0.8000\n",
            "Epoch 22/50\n",
            "15/15 [==============================] - 0s 5ms/step - loss: 0.5632 - accuracy: 0.8250 - val_loss: 0.5572 - val_accuracy: 0.8667\n",
            "Epoch 23/50\n",
            "15/15 [==============================] - 0s 4ms/step - loss: 0.5557 - accuracy: 0.8583 - val_loss: 0.5497 - val_accuracy: 0.8667\n",
            "Epoch 24/50\n",
            "15/15 [==============================] - 0s 5ms/step - loss: 0.5483 - accuracy: 0.8583 - val_loss: 0.5428 - val_accuracy: 0.8667\n",
            "Epoch 25/50\n",
            "15/15 [==============================] - 0s 5ms/step - loss: 0.5408 - accuracy: 0.9083 - val_loss: 0.5354 - val_accuracy: 0.9000\n",
            "Epoch 26/50\n",
            "15/15 [==============================] - 0s 5ms/step - loss: 0.5346 - accuracy: 0.8750 - val_loss: 0.5287 - val_accuracy: 0.8667\n",
            "Epoch 27/50\n",
            "15/15 [==============================] - 0s 4ms/step - loss: 0.5271 - accuracy: 0.8833 - val_loss: 0.5220 - val_accuracy: 0.8667\n",
            "Epoch 28/50\n",
            "15/15 [==============================] - 0s 4ms/step - loss: 0.5197 - accuracy: 0.8833 - val_loss: 0.5154 - val_accuracy: 0.9000\n",
            "Epoch 29/50\n",
            "15/15 [==============================] - 0s 5ms/step - loss: 0.5141 - accuracy: 0.9583 - val_loss: 0.5099 - val_accuracy: 0.9333\n",
            "Epoch 30/50\n",
            "15/15 [==============================] - 0s 6ms/step - loss: 0.5069 - accuracy: 0.9667 - val_loss: 0.5031 - val_accuracy: 0.9333\n",
            "Epoch 31/50\n",
            "15/15 [==============================] - 0s 4ms/step - loss: 0.5012 - accuracy: 0.9583 - val_loss: 0.4976 - val_accuracy: 0.9333\n",
            "Epoch 32/50\n",
            "15/15 [==============================] - 0s 7ms/step - loss: 0.4949 - accuracy: 0.9583 - val_loss: 0.4914 - val_accuracy: 0.9000\n",
            "Epoch 33/50\n",
            "15/15 [==============================] - 0s 6ms/step - loss: 0.4890 - accuracy: 0.9417 - val_loss: 0.4861 - val_accuracy: 0.9000\n",
            "Epoch 34/50\n",
            "15/15 [==============================] - 0s 6ms/step - loss: 0.4837 - accuracy: 0.9500 - val_loss: 0.4808 - val_accuracy: 0.9333\n",
            "Epoch 35/50\n",
            "15/15 [==============================] - 0s 4ms/step - loss: 0.4780 - accuracy: 0.9500 - val_loss: 0.4752 - val_accuracy: 0.9000\n",
            "Epoch 36/50\n",
            "15/15 [==============================] - 0s 4ms/step - loss: 0.4723 - accuracy: 0.9583 - val_loss: 0.4697 - val_accuracy: 0.9333\n",
            "Epoch 37/50\n",
            "15/15 [==============================] - 0s 5ms/step - loss: 0.4669 - accuracy: 0.9667 - val_loss: 0.4646 - val_accuracy: 0.9333\n",
            "Epoch 38/50\n",
            "15/15 [==============================] - 0s 5ms/step - loss: 0.4624 - accuracy: 0.9667 - val_loss: 0.4598 - val_accuracy: 0.9667\n",
            "Epoch 39/50\n",
            "15/15 [==============================] - 0s 5ms/step - loss: 0.4566 - accuracy: 0.9667 - val_loss: 0.4545 - val_accuracy: 0.9333\n",
            "Epoch 40/50\n",
            "15/15 [==============================] - 0s 5ms/step - loss: 0.4519 - accuracy: 0.9667 - val_loss: 0.4499 - val_accuracy: 0.9333\n",
            "Epoch 41/50\n",
            "15/15 [==============================] - 0s 5ms/step - loss: 0.4471 - accuracy: 0.9583 - val_loss: 0.4451 - val_accuracy: 0.9333\n",
            "Epoch 42/50\n",
            "15/15 [==============================] - 0s 6ms/step - loss: 0.4416 - accuracy: 0.9667 - val_loss: 0.4404 - val_accuracy: 0.9333\n",
            "Epoch 43/50\n",
            "15/15 [==============================] - 0s 5ms/step - loss: 0.4377 - accuracy: 0.9667 - val_loss: 0.4362 - val_accuracy: 0.9667\n",
            "Epoch 44/50\n",
            "15/15 [==============================] - 0s 6ms/step - loss: 0.4325 - accuracy: 0.9667 - val_loss: 0.4310 - val_accuracy: 0.9333\n",
            "Epoch 45/50\n",
            "15/15 [==============================] - 0s 7ms/step - loss: 0.4281 - accuracy: 0.9667 - val_loss: 0.4269 - val_accuracy: 0.9667\n",
            "Epoch 46/50\n",
            "15/15 [==============================] - 0s 6ms/step - loss: 0.4230 - accuracy: 0.9667 - val_loss: 0.4225 - val_accuracy: 0.9333\n",
            "Epoch 47/50\n",
            "15/15 [==============================] - 0s 4ms/step - loss: 0.4190 - accuracy: 0.9667 - val_loss: 0.4181 - val_accuracy: 0.9667\n",
            "Epoch 48/50\n",
            "15/15 [==============================] - 0s 5ms/step - loss: 0.4139 - accuracy: 0.9667 - val_loss: 0.4138 - val_accuracy: 0.9667\n",
            "Epoch 49/50\n",
            "15/15 [==============================] - 0s 5ms/step - loss: 0.4092 - accuracy: 0.9667 - val_loss: 0.4096 - val_accuracy: 0.9667\n",
            "Epoch 50/50\n",
            "15/15 [==============================] - 0s 5ms/step - loss: 0.4057 - accuracy: 0.9667 - val_loss: 0.4051 - val_accuracy: 0.9667\n"
          ]
        }
      ]
    },
    {
      "cell_type": "markdown",
      "source": [
        "---"
      ],
      "metadata": {
        "id": "WUtvAwPbLpIY"
      }
    },
    {
      "cell_type": "markdown",
      "source": [
        "# 7. 딥러닝 성능 평가"
      ],
      "metadata": {
        "id": "-368-McM51w8"
      }
    },
    {
      "cell_type": "code",
      "source": [
        "# 모델 학습 정보\n",
        "\n",
        "history.history"
      ],
      "metadata": {
        "colab": {
          "base_uri": "https://localhost:8080/"
        },
        "id": "mBWCjv9GLLi_",
        "outputId": "32ca1f3d-e916-4e13-82cc-3474b42e4df9"
      },
      "execution_count": 44,
      "outputs": [
        {
          "output_type": "execute_result",
          "data": {
            "text/plain": [
              "{'loss': [0.8681093454360962,\n",
              "  0.8367239236831665,\n",
              "  0.8093553781509399,\n",
              "  0.7876119017601013,\n",
              "  0.7665751576423645,\n",
              "  0.7485143542289734,\n",
              "  0.7328509092330933,\n",
              "  0.7177732586860657,\n",
              "  0.7020657062530518,\n",
              "  0.6871657967567444,\n",
              "  0.6747294664382935,\n",
              "  0.6611330509185791,\n",
              "  0.6495799422264099,\n",
              "  0.6380050182342529,\n",
              "  0.6273069381713867,\n",
              "  0.6178788542747498,\n",
              "  0.6068963408470154,\n",
              "  0.597152829170227,\n",
              "  0.5883916020393372,\n",
              "  0.5795119404792786,\n",
              "  0.5712667107582092,\n",
              "  0.5632181167602539,\n",
              "  0.5557287931442261,\n",
              "  0.5482709407806396,\n",
              "  0.5408298373222351,\n",
              "  0.5346282720565796,\n",
              "  0.5270820260047913,\n",
              "  0.5196855068206787,\n",
              "  0.5140649676322937,\n",
              "  0.506908118724823,\n",
              "  0.5011711716651917,\n",
              "  0.49491772055625916,\n",
              "  0.48899444937705994,\n",
              "  0.48369839787483215,\n",
              "  0.47803181409835815,\n",
              "  0.47226008772850037,\n",
              "  0.466908723115921,\n",
              "  0.46242061257362366,\n",
              "  0.45659637451171875,\n",
              "  0.45194149017333984,\n",
              "  0.4471012055873871,\n",
              "  0.44163405895233154,\n",
              "  0.4376589059829712,\n",
              "  0.43251949548721313,\n",
              "  0.4280754625797272,\n",
              "  0.4230155944824219,\n",
              "  0.41896286606788635,\n",
              "  0.41385120153427124,\n",
              "  0.40919068455696106,\n",
              "  0.40573474764823914],\n",
              " 'accuracy': [0.6666666865348816,\n",
              "  0.6666666865348816,\n",
              "  0.6666666865348816,\n",
              "  0.6666666865348816,\n",
              "  0.6916666626930237,\n",
              "  0.7416666746139526,\n",
              "  0.7083333134651184,\n",
              "  0.699999988079071,\n",
              "  0.7666666507720947,\n",
              "  0.8416666388511658,\n",
              "  0.8333333134651184,\n",
              "  0.7833333611488342,\n",
              "  0.7666666507720947,\n",
              "  0.7583333253860474,\n",
              "  0.800000011920929,\n",
              "  0.8500000238418579,\n",
              "  0.8666666746139526,\n",
              "  0.8500000238418579,\n",
              "  0.8166666626930237,\n",
              "  0.824999988079071,\n",
              "  0.824999988079071,\n",
              "  0.824999988079071,\n",
              "  0.8583333492279053,\n",
              "  0.8583333492279053,\n",
              "  0.9083333611488342,\n",
              "  0.875,\n",
              "  0.8833333253860474,\n",
              "  0.8833333253860474,\n",
              "  0.9583333134651184,\n",
              "  0.9666666388511658,\n",
              "  0.9583333134651184,\n",
              "  0.9583333134651184,\n",
              "  0.9416666626930237,\n",
              "  0.949999988079071,\n",
              "  0.949999988079071,\n",
              "  0.9583333134651184,\n",
              "  0.9666666388511658,\n",
              "  0.9666666388511658,\n",
              "  0.9666666388511658,\n",
              "  0.9666666388511658,\n",
              "  0.9583333134651184,\n",
              "  0.9666666388511658,\n",
              "  0.9666666388511658,\n",
              "  0.9666666388511658,\n",
              "  0.9666666388511658,\n",
              "  0.9666666388511658,\n",
              "  0.9666666388511658,\n",
              "  0.9666666388511658,\n",
              "  0.9666666388511658,\n",
              "  0.9666666388511658],\n",
              " 'val_loss': [0.8521893620491028,\n",
              "  0.8219109773635864,\n",
              "  0.7966374158859253,\n",
              "  0.7747130990028381,\n",
              "  0.7557416558265686,\n",
              "  0.7382374405860901,\n",
              "  0.7218255996704102,\n",
              "  0.7067671418190002,\n",
              "  0.6914709210395813,\n",
              "  0.6773077249526978,\n",
              "  0.6644903421401978,\n",
              "  0.6520336866378784,\n",
              "  0.6406448483467102,\n",
              "  0.6296007633209229,\n",
              "  0.6190539002418518,\n",
              "  0.6088973879814148,\n",
              "  0.5992700457572937,\n",
              "  0.5903891324996948,\n",
              "  0.5815470218658447,\n",
              "  0.5731827020645142,\n",
              "  0.5649181604385376,\n",
              "  0.5572079420089722,\n",
              "  0.5497139692306519,\n",
              "  0.5428211092948914,\n",
              "  0.5354194045066833,\n",
              "  0.5287410020828247,\n",
              "  0.5219677686691284,\n",
              "  0.5153729319572449,\n",
              "  0.5099217891693115,\n",
              "  0.5031067132949829,\n",
              "  0.4976418912410736,\n",
              "  0.4914378821849823,\n",
              "  0.48613691329956055,\n",
              "  0.48075780272483826,\n",
              "  0.47520408034324646,\n",
              "  0.46970632672309875,\n",
              "  0.46458107233047485,\n",
              "  0.4598393142223358,\n",
              "  0.45454075932502747,\n",
              "  0.4498870074748993,\n",
              "  0.44510459899902344,\n",
              "  0.44042089581489563,\n",
              "  0.4361504018306732,\n",
              "  0.43102970719337463,\n",
              "  0.4268833100795746,\n",
              "  0.42253637313842773,\n",
              "  0.41812610626220703,\n",
              "  0.41375473141670227,\n",
              "  0.4096217453479767,\n",
              "  0.40512752532958984],\n",
              " 'val_accuracy': [0.6666666865348816,\n",
              "  0.6666666865348816,\n",
              "  0.7333333492279053,\n",
              "  0.7333333492279053,\n",
              "  0.7333333492279053,\n",
              "  0.7666666507720947,\n",
              "  0.7333333492279053,\n",
              "  0.7333333492279053,\n",
              "  0.800000011920929,\n",
              "  0.800000011920929,\n",
              "  0.800000011920929,\n",
              "  0.7666666507720947,\n",
              "  0.7666666507720947,\n",
              "  0.7666666507720947,\n",
              "  0.800000011920929,\n",
              "  0.8666666746139526,\n",
              "  0.8666666746139526,\n",
              "  0.800000011920929,\n",
              "  0.800000011920929,\n",
              "  0.800000011920929,\n",
              "  0.800000011920929,\n",
              "  0.8666666746139526,\n",
              "  0.8666666746139526,\n",
              "  0.8666666746139526,\n",
              "  0.8999999761581421,\n",
              "  0.8666666746139526,\n",
              "  0.8666666746139526,\n",
              "  0.8999999761581421,\n",
              "  0.9333333373069763,\n",
              "  0.9333333373069763,\n",
              "  0.9333333373069763,\n",
              "  0.8999999761581421,\n",
              "  0.8999999761581421,\n",
              "  0.9333333373069763,\n",
              "  0.8999999761581421,\n",
              "  0.9333333373069763,\n",
              "  0.9333333373069763,\n",
              "  0.9666666388511658,\n",
              "  0.9333333373069763,\n",
              "  0.9333333373069763,\n",
              "  0.9333333373069763,\n",
              "  0.9333333373069763,\n",
              "  0.9666666388511658,\n",
              "  0.9333333373069763,\n",
              "  0.9666666388511658,\n",
              "  0.9333333373069763,\n",
              "  0.9666666388511658,\n",
              "  0.9666666388511658,\n",
              "  0.9666666388511658,\n",
              "  0.9666666388511658]}"
            ]
          },
          "metadata": {},
          "execution_count": 44
        }
      ]
    },
    {
      "cell_type": "code",
      "source": [
        "# matplotlib 이용하여 그래프 그리기\n",
        "# 1. plot 그리기 : 입력  history.history['loss'] , history.history['val_loss']\n",
        "# 2. plot 그리기 : 입력  history.history['accuracy'] , history.history['val_accuracy']\n",
        "# 3. title : 'Loss and Accuracy'\n",
        "# 4. xlabel : \"Epochs\"\n",
        "# 5. ylabel : \"Loss\"\n",
        "# 6. legend : [\"Loss\", \"Accuracy\"]\n",
        "# 7. plt.show()\n",
        "plt.plot(history.history['loss'], history.history['val_loss'])\n",
        "plt.plot(history.history['accuracy'], history.history['val_accuracy'])\n",
        "plt.title('Loss and Accuracy')\n",
        "plt.xlabel(\"Epochs\")\n",
        "plt.ylabel(\"Loss\")\n",
        "plt.legend([\"Loss\", \"Accuracy\"])\n",
        "plt.show()\n",
        "\n",
        "\n",
        "\n"
      ],
      "metadata": {
        "id": "F3Q5YHap5lvG",
        "colab": {
          "base_uri": "https://localhost:8080/",
          "height": 472
        },
        "outputId": "acc74857-6d92-4fc4-a479-c2a1f646694d"
      },
      "execution_count": 45,
      "outputs": [
        {
          "output_type": "display_data",
          "data": {
            "text/plain": [
              "<Figure size 640x480 with 1 Axes>"
            ],
            "image/png": "[encoded data removed]"
          },
          "metadata": {}
        }
      ]
    },
    {
      "cell_type": "markdown",
      "source": [
        "---"
      ],
      "metadata": {
        "id": "lXayjZaA515j"
      }
    },
    {
      "cell_type": "code",
      "source": [],
      "metadata": {
        "id": "NZIekizc5lsG"
      },
      "execution_count": null,
      "outputs": []
    }
  ]
}