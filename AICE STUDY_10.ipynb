{
 "cells": [
  {
   "cell_type": "code",
   "execution_count": 1,
   "id": "39136d80-d004-44eb-8395-01983f28480c",
   "metadata": {},
   "outputs": [
    {
     "name": "stdout",
     "output_type": "stream",
     "text": [
      "Requirement already satisfied: tensorflow in c:\\users\\aidan\\appdata\\roaming\\python\\python311\\site-packages (2.16.1)\n",
      "Requirement already satisfied: tensorflow-intel==2.16.1 in c:\\users\\aidan\\appdata\\roaming\\python\\python311\\site-packages (from tensorflow) (2.16.1)\n",
      "Requirement already satisfied: absl-py>=1.0.0 in c:\\users\\aidan\\appdata\\roaming\\python\\python311\\site-packages (from tensorflow-intel==2.16.1->tensorflow) (2.1.0)\n",
      "Requirement already satisfied: astunparse>=1.6.0 in c:\\users\\aidan\\appdata\\roaming\\python\\python311\\site-packages (from tensorflow-intel==2.16.1->tensorflow) (1.6.3)\n",
      "Requirement already satisfied: flatbuffers>=23.5.26 in c:\\users\\aidan\\appdata\\roaming\\python\\python311\\site-packages (from tensorflow-intel==2.16.1->tensorflow) (24.3.25)\n",
      "Requirement already satisfied: gast!=0.5.0,!=0.5.1,!=0.5.2,>=0.2.1 in c:\\users\\aidan\\appdata\\roaming\\python\\python311\\site-packages (from tensorflow-intel==2.16.1->tensorflow) (0.5.4)\n",
      "Requirement already satisfied: google-pasta>=0.1.1 in c:\\users\\aidan\\appdata\\roaming\\python\\python311\\site-packages (from tensorflow-intel==2.16.1->tensorflow) (0.2.0)\n",
      "Requirement already satisfied: h5py>=3.10.0 in c:\\users\\aidan\\appdata\\roaming\\python\\python311\\site-packages (from tensorflow-intel==2.16.1->tensorflow) (3.11.0)\n",
      "Requirement already satisfied: libclang>=13.0.0 in c:\\users\\aidan\\appdata\\roaming\\python\\python311\\site-packages (from tensorflow-intel==2.16.1->tensorflow) (18.1.1)\n",
      "Requirement already satisfied: ml-dtypes~=0.3.1 in c:\\users\\aidan\\appdata\\roaming\\python\\python311\\site-packages (from tensorflow-intel==2.16.1->tensorflow) (0.3.2)\n",
      "Requirement already satisfied: opt-einsum>=2.3.2 in c:\\users\\aidan\\appdata\\roaming\\python\\python311\\site-packages (from tensorflow-intel==2.16.1->tensorflow) (3.3.0)\n",
      "Requirement already satisfied: packaging in c:\\users\\aidan\\appdata\\roaming\\python\\python311\\site-packages (from tensorflow-intel==2.16.1->tensorflow) (24.0)\n",
      "Requirement already satisfied: protobuf!=4.21.0,!=4.21.1,!=4.21.2,!=4.21.3,!=4.21.4,!=4.21.5,<5.0.0dev,>=3.20.3 in c:\\users\\aidan\\appdata\\roaming\\python\\python311\\site-packages (from tensorflow-intel==2.16.1->tensorflow) (4.25.3)\n",
      "Requirement already satisfied: requests<3,>=2.21.0 in c:\\users\\aidan\\appdata\\roaming\\python\\python311\\site-packages (from tensorflow-intel==2.16.1->tensorflow) (2.32.3)\n",
      "Requirement already satisfied: setuptools in c:\\anaconda3\\lib\\site-packages (from tensorflow-intel==2.16.1->tensorflow) (68.0.0)\n",
      "Requirement already satisfied: six>=1.12.0 in c:\\users\\aidan\\appdata\\roaming\\python\\python311\\site-packages (from tensorflow-intel==2.16.1->tensorflow) (1.16.0)\n",
      "Requirement already satisfied: termcolor>=1.1.0 in c:\\users\\aidan\\appdata\\roaming\\python\\python311\\site-packages (from tensorflow-intel==2.16.1->tensorflow) (2.4.0)\n",
      "Requirement already satisfied: typing-extensions>=3.6.6 in c:\\users\\aidan\\appdata\\roaming\\python\\python311\\site-packages (from tensorflow-intel==2.16.1->tensorflow) (4.12.1)\n",
      "Requirement already satisfied: wrapt>=1.11.0 in c:\\users\\aidan\\appdata\\roaming\\python\\python311\\site-packages (from tensorflow-intel==2.16.1->tensorflow) (1.16.0)\n",
      "Requirement already satisfied: grpcio<2.0,>=1.24.3 in c:\\users\\aidan\\appdata\\roaming\\python\\python311\\site-packages (from tensorflow-intel==2.16.1->tensorflow) (1.64.1)\n",
      "Requirement already satisfied: tensorboard<2.17,>=2.16 in c:\\users\\aidan\\appdata\\roaming\\python\\python311\\site-packages (from tensorflow-intel==2.16.1->tensorflow) (2.16.2)\n",
      "Requirement already satisfied: keras>=3.0.0 in c:\\users\\aidan\\appdata\\roaming\\python\\python311\\site-packages (from tensorflow-intel==2.16.1->tensorflow) (3.3.3)\n",
      "Requirement already satisfied: tensorflow-io-gcs-filesystem>=0.23.1 in c:\\users\\aidan\\appdata\\roaming\\python\\python311\\site-packages (from tensorflow-intel==2.16.1->tensorflow) (0.31.0)\n",
      "Requirement already satisfied: numpy<2.0.0,>=1.23.5 in c:\\anaconda3\\lib\\site-packages (from tensorflow-intel==2.16.1->tensorflow) (1.24.3)\n",
      "Requirement already satisfied: wheel<1.0,>=0.23.0 in c:\\users\\aidan\\appdata\\roaming\\python\\python311\\site-packages (from astunparse>=1.6.0->tensorflow-intel==2.16.1->tensorflow) (0.43.0)\n",
      "Requirement already satisfied: rich in c:\\users\\aidan\\appdata\\roaming\\python\\python311\\site-packages (from keras>=3.0.0->tensorflow-intel==2.16.1->tensorflow) (13.7.1)\n",
      "Requirement already satisfied: namex in c:\\users\\aidan\\appdata\\roaming\\python\\python311\\site-packages (from keras>=3.0.0->tensorflow-intel==2.16.1->tensorflow) (0.0.8)\n",
      "Requirement already satisfied: optree in c:\\users\\aidan\\appdata\\roaming\\python\\python311\\site-packages (from keras>=3.0.0->tensorflow-intel==2.16.1->tensorflow) (0.11.0)\n",
      "Requirement already satisfied: charset-normalizer<4,>=2 in c:\\users\\aidan\\appdata\\roaming\\python\\python311\\site-packages (from requests<3,>=2.21.0->tensorflow-intel==2.16.1->tensorflow) (3.3.2)\n",
      "Requirement already satisfied: idna<4,>=2.5 in c:\\users\\aidan\\appdata\\roaming\\python\\python311\\site-packages (from requests<3,>=2.21.0->tensorflow-intel==2.16.1->tensorflow) (3.7)\n",
      "Requirement already satisfied: urllib3<3,>=1.21.1 in c:\\users\\aidan\\appdata\\roaming\\python\\python311\\site-packages (from requests<3,>=2.21.0->tensorflow-intel==2.16.1->tensorflow) (2.2.1)\n",
      "Requirement already satisfied: certifi>=2017.4.17 in c:\\users\\aidan\\appdata\\roaming\\python\\python311\\site-packages (from requests<3,>=2.21.0->tensorflow-intel==2.16.1->tensorflow) (2024.6.2)\n",
      "Requirement already satisfied: markdown>=2.6.8 in c:\\users\\aidan\\appdata\\roaming\\python\\python311\\site-packages (from tensorboard<2.17,>=2.16->tensorflow-intel==2.16.1->tensorflow) (3.6)\n",
      "Requirement already satisfied: tensorboard-data-server<0.8.0,>=0.7.0 in c:\\users\\aidan\\appdata\\roaming\\python\\python311\\site-packages (from tensorboard<2.17,>=2.16->tensorflow-intel==2.16.1->tensorflow) (0.7.2)\n",
      "Requirement already satisfied: werkzeug>=1.0.1 in c:\\users\\aidan\\appdata\\roaming\\python\\python311\\site-packages (from tensorboard<2.17,>=2.16->tensorflow-intel==2.16.1->tensorflow) (3.0.3)\n",
      "Requirement already satisfied: MarkupSafe>=2.1.1 in c:\\users\\aidan\\appdata\\roaming\\python\\python311\\site-packages (from werkzeug>=1.0.1->tensorboard<2.17,>=2.16->tensorflow-intel==2.16.1->tensorflow) (2.1.5)\n",
      "Requirement already satisfied: markdown-it-py>=2.2.0 in c:\\users\\aidan\\appdata\\roaming\\python\\python311\\site-packages (from rich->keras>=3.0.0->tensorflow-intel==2.16.1->tensorflow) (3.0.0)\n",
      "Requirement already satisfied: pygments<3.0.0,>=2.13.0 in c:\\users\\aidan\\appdata\\roaming\\python\\python311\\site-packages (from rich->keras>=3.0.0->tensorflow-intel==2.16.1->tensorflow) (2.18.0)\n",
      "Requirement already satisfied: mdurl~=0.1 in c:\\users\\aidan\\appdata\\roaming\\python\\python311\\site-packages (from markdown-it-py>=2.2.0->rich->keras>=3.0.0->tensorflow-intel==2.16.1->tensorflow) (0.1.2)\n",
      "변경 전 =  (60000, 28, 28)\n",
      "변경 후 =  (60000, 784)\n"
     ]
    }
   ],
   "source": [
    "!pip install tensorflow\n",
    "from tensorflow.keras.datasets.mnist import load_data\n",
    "\n",
    "#load_data로 데이터 할당하기\n",
    "(x_train, y_train), (x_test, y_test) = load_data()\n",
    "\n",
    "#손 글씨 데이터는 이미지라 3차원 행렬\n",
    "print(\"변경 전 = \", x_train.shape)\n",
    "\n",
    "#3차원 행렬을 2차원으로 변경\n",
    "x_train = x_train.reshape(-1, 784)\n",
    "x_test = x_test.reshape(-1, 784)\n",
    "\n",
    "#변경 결과 확인하기\n",
    "print(\"변경 후 = \", x_train.shape)"
   ]
  },
  {
   "cell_type": "code",
   "execution_count": 2,
   "id": "ff9b0df4-7a07-4067-8508-f8cb91323044",
   "metadata": {},
   "outputs": [],
   "source": [
    "#의사결정나무 모델링하기"
   ]
  },
  {
   "cell_type": "code",
   "execution_count": 3,
   "id": "8a0415cd-c2f8-4dc4-b983-3d09f0ddc984",
   "metadata": {},
   "outputs": [
    {
     "name": "stdout",
     "output_type": "stream",
     "text": [
      "학습 결과 = 1.0, 검증 결과 = 0.8781\n"
     ]
    }
   ],
   "source": [
    "from sklearn.tree import DecisionTreeClassifier\n",
    "from sklearn.ensemble import RandomForestClassifier\n",
    "\n",
    "#의사결정나무 학습하기\n",
    "dct = DecisionTreeClassifier(random_state=0)\n",
    "dct.fit(x_train, y_train)\n",
    "\n",
    "#의사결정나무 결과 확인하기\n",
    "acc_train_dct = dct.score(x_train, y_train)\n",
    "acc_test_dct = dct.score(x_test, y_test)\n",
    "\n",
    "print(f'''학습 결과 = {acc_train_dct}, 검증 결과 = {acc_test_dct}''')\n"
   ]
  },
  {
   "cell_type": "code",
   "execution_count": 4,
   "id": "b6210886-935a-478c-9dfe-c7c668cbdddf",
   "metadata": {},
   "outputs": [],
   "source": [
    "#랜덤 포레스트 모델링 및 결과 비교하기"
   ]
  },
  {
   "cell_type": "code",
   "execution_count": 6,
   "id": "42786f24-a3af-4415-bf44-45341c9e3ffe",
   "metadata": {},
   "outputs": [
    {
     "name": "stdout",
     "output_type": "stream",
     "text": [
      "의사결정나무 : train_acc = 1.0, test_acc = 0.878\n",
      "랜덤포레스트 : train_acc = 1.0, test_acc = 0.97\n"
     ]
    }
   ],
   "source": [
    "rfc = RandomForestClassifier(random_state = 0)\n",
    "rfc.fit(x_train, y_train)\n",
    "\n",
    "#랜덤 포레스트 결과 저장\n",
    "acc_train_rfc = rfc.score(x_train, y_train)\n",
    "acc_test_rfc = rfc.score(x_test, y_test)\n",
    "#학습 결과 수치로 출력\n",
    "print(f\"\"\"의사결정나무 : train_acc = {round(acc_train_dct, 3)}, test_acc = {round(acc_test_dct, 3)}\"\"\")\n",
    "print(f\"\"\"랜덤포레스트 : train_acc = {round(acc_train_rfc, 3)}, test_acc = {round(acc_test_rfc, 3)}\"\"\")\n"
   ]
  },
  {
   "cell_type": "code",
   "execution_count": 7,
   "id": "f7729bd2-a9ef-4681-b682-b7d25864b599",
   "metadata": {},
   "outputs": [
    {
     "data": {
      "image/png": "[encoded data removed]",
      "text/plain": [
       "<Figure size 640x480 with 1 Axes>"
      ]
     },
     "metadata": {},
     "output_type": "display_data"
    }
   ],
   "source": [
    "import matplotlib.pyplot as plt\n",
    "\n",
    "#x축 정의하기\n",
    "acc_list_x = ['dct_train', 'dct_test', 'rfc_train', 'rfc_test']\n",
    "#y축 정의하기\n",
    "acc_list_y = [acc_train_dct, acc_test_dct, acc_train_rfc, acc_test_rfc]\n",
    "\n",
    "colors=['orange', 'orange', 'blue','blue']\n",
    "plt.bar(acc_list_x, acc_list_y, color=colors)\n",
    "plt.show()"
   ]
  },
  {
   "cell_type": "code",
   "execution_count": 8,
   "id": "835c5ef6-33be-4ec0-9433-13611e23411b",
   "metadata": {},
   "outputs": [
    {
     "name": "stdout",
     "output_type": "stream",
     "text": [
      "의사결정나무 : train_acc = 1.0, test_acc = 0.878\n",
      "랜덤 포레스트 : train_acc = 1.0, test_acc = 0.877\n"
     ]
    }
   ],
   "source": [
    "#의사결정나무 결과와 동일하게 랜덤 포레스트 구성하기\n",
    "rft = RandomForestClassifier(random_state=0, \n",
    "                             #나무 개수를 1개로 설정\n",
    "                             n_estimators=1,\n",
    "                             #max_feature는 의사결정나무 기준으로 변경\n",
    "                             max_features=None,\n",
    "                             #부트스트랩 샘플링은 off\n",
    "                             bootstrap=False,\n",
    "                            )\n",
    "rft.fit(x_train, y_train)\n",
    "\n",
    "#학습 결과 저장하기\n",
    "acc_train_rfc = rft.score(x_train, y_train)\n",
    "acc_test_rfc = rft.score(x_test, y_test)\n",
    "acc_train_dct = dct.score(x_train, y_train)\n",
    "acc_test_dct = dct.score(x_test, y_test)\n",
    "\n",
    "#의사결정나무 & 랜덤 포레스트가 유사한 결과를 출력하는지 비교\n",
    "print(f\"\"\"의사결정나무 : train_acc = {round(acc_train_dct,3)}, test_acc = {round(acc_test_dct, 3)}\"\"\")\n",
    "print(f\"\"\"랜덤 포레스트 : train_acc = {round(acc_train_rfc,3)}, test_acc = {round(acc_test_rfc, 3)}\"\"\")\n"
   ]
  },
  {
   "cell_type": "code",
   "execution_count": 1,
   "id": "3fe2cacb-4483-4859-825a-4e04438a96ff",
   "metadata": {},
   "outputs": [],
   "source": [
    "# 그래디언트 부스팅 이해하기"
   ]
  },
  {
   "cell_type": "code",
   "execution_count": 2,
   "id": "00c651e5-20f7-4889-831b-43b9a6817aae",
   "metadata": {},
   "outputs": [
    {
     "data": {
      "image/png": "[encoded data removed]",
      "text/plain": [
       "<Figure size 640x480 with 1 Axes>"
      ]
     },
     "metadata": {},
     "output_type": "display_data"
    },
    {
     "data": {
      "image/png": "[encoded data removed]",
      "text/plain": [
       "<Figure size 640x480 with 1 Axes>"
      ]
     },
     "metadata": {},
     "output_type": "display_data"
    }
   ],
   "source": [
    "from tensorflow.keras.datasets.mnist import load_data\n",
    "import matplotlib.pyplot as plt\n",
    "\n",
    "(x_train, y_train),(x_test, y_test) = load_data()\n",
    "#학습시간 고려해서 2000건 데이터만 사용하기\n",
    "x_train=x_train[:2000]\n",
    "y_train=y_train[:2000]\n",
    "x_test=x_test[:2000]\n",
    "y_test=y_test[:2000]\n",
    "\n",
    "#샘플 데이터 확인하기\n",
    "plt.imshow(x_train[7], cmap='Greys')\n",
    "plt.show()\n",
    "\n",
    "#샘플 데이터 확인하기\n",
    "plt.imshow(x_train[1], cmap='Greys')\n",
    "plt.show()"
   ]
  },
  {
   "cell_type": "code",
   "execution_count": 3,
   "id": "a9025e56-8af0-4325-ae07-c64f03bc0fbf",
   "metadata": {},
   "outputs": [],
   "source": [
    "x_train = x_train.reshape(-1, 784)\n",
    "x_test = x_test.reshape(-1, 784)"
   ]
  },
  {
   "cell_type": "code",
   "execution_count": 4,
   "id": "14f90d33-0c87-4368-90b6-dc95bd51988d",
   "metadata": {},
   "outputs": [],
   "source": [
    "#알고리즘별 학습 및 결과 비교하기"
   ]
  },
  {
   "cell_type": "code",
   "execution_count": 5,
   "id": "b55217cf-2efa-4f93-8738-355f1c13c494",
   "metadata": {},
   "outputs": [
    {
     "name": "stdout",
     "output_type": "stream",
     "text": [
      "      Iter       Train Loss   Remaining Time \n",
      "         1           1.8398            2.24m\n",
      "         2           1.5879            2.30m\n",
      "         3           1.4024            2.29m\n",
      "         4           1.2584            2.23m\n",
      "         5           1.1338            2.19m\n",
      "         6           1.0258            2.16m\n",
      "         7           0.9359            2.13m\n",
      "         8           0.8556            2.10m\n",
      "         9           0.7863            2.08m\n",
      "        10           0.7247            2.06m\n",
      "        20           0.3653            1.88m\n",
      "        30           0.2167            1.62m\n",
      "        40           0.1423            1.38m\n",
      "        50           0.0982            1.17m\n",
      "        60           0.0720           56.21s\n",
      "        70           0.0540           41.92s\n",
      "        80           0.0410           27.87s\n",
      "        90           0.0321           13.88s\n",
      "       100           0.0252            0.00s\n",
      "의사결정나무: train_acc = 1.0, test_acc = 0.652\n",
      "랜덤 포레스트: train_acc = 1.0, test_acc = 0.874\n",
      "그래디언트 부스: train_acc = 1.0, test_acc = 0.828\n"
     ]
    }
   ],
   "source": [
    "from sklearn.tree import DecisionTreeClassifier\n",
    "from sklearn.ensemble import RandomForestClassifier\n",
    "from sklearn.ensemble import GradientBoostingClassifier\n",
    "\n",
    "#의사결정나무 불러오기 및 학습하기\n",
    "dct = DecisionTreeClassifier(random_state=0)\n",
    "dct.fit(x_train, y_train)\n",
    "#의사결정나무 학습 결과 저장하기\n",
    "acc_train_dct = dct.score(x_train, y_train)\n",
    "acc_test_dct = dct.score(x_test, y_test)\n",
    "\n",
    "#랜덤 포레스트 불러오기 및 학습하기\n",
    "rfc = RandomForestClassifier(random_state=0)\n",
    "rfc.fit(x_train, y_train)\n",
    "#랜덤 포레스트 학습 결과 저장하기\n",
    "acc_train_rfc = rfc.score(x_train, y_train)\n",
    "acc_test_rfc = rfc.score(x_test, y_test)\n",
    "\n",
    "#그래디언트 부스팅 불러오기 및 학습하기\n",
    "gbc = GradientBoostingClassifier(random_state=0, verbose=1)\n",
    "gbc.fit(x_train,y_train)\n",
    "#그래디언트 부스팅 학습 결과 저장하기\n",
    "acc_train_gbc = gbc.score(x_train, y_train)\n",
    "acc_test_gbc = gbc.score(x_test, y_test)\n",
    "\n",
    "#각 알고리즘별 성능 비교하기\n",
    "print(f\"\"\"의사결정나무: train_acc = {round(acc_train_dct,3)}, test_acc = {round(acc_test_dct, 3)}\"\"\")\n",
    "print(f\"\"\"랜덤 포레스트: train_acc = {round(acc_train_rfc,3)}, test_acc = {round(acc_test_rfc, 3)}\"\"\")\n",
    "print(f\"\"\"그래디언트 부스: train_acc = {round(acc_train_gbc,3)}, test_acc = {round(acc_test_gbc, 3)}\"\"\")"
   ]
  },
  {
   "cell_type": "code",
   "execution_count": 7,
   "id": "0929179a-0e40-471b-83bd-7e83ba52c02f",
   "metadata": {},
   "outputs": [
    {
     "data": {
      "image/png": "[encoded data removed]",
      "text/plain": [
       "<Figure size 640x480 with 1 Axes>"
      ]
     },
     "metadata": {},
     "output_type": "display_data"
    }
   ],
   "source": [
    "#비교 그래프 그리기\n",
    "import matplotlib.pyplot as plt\n",
    "acc_list_x = ['dct_train', 'dct_test', 'rfc_train', 'rfc_test', 'gbc_train', 'gbc_test',]\n",
    "acc_list_y = [acc_train_dct, acc_test_dct, acc_train_rfc, acc_test_rfc, acc_train_gbc, acc_test_gbc]\n",
    "colors = ['orange', 'orange', 'blue', 'blue', 'red', 'red']\n",
    "plt.bar(acc_list_x, acc_list_y, color=colors)\n",
    "plt.ylim([0.6,1.0])\n",
    "plt.show()"
   ]
  },
  {
   "cell_type": "code",
   "execution_count": null,
   "id": "5b582f7c-47f7-4691-90c3-09f3b8f439e8",
   "metadata": {},
   "outputs": [],
   "source": []
  }
 ],
 "metadata": {
  "kernelspec": {
   "display_name": "Python 3 (ipykernel)",
   "language": "python",
   "name": "python3"
  },
  "language_info": {
   "codemirror_mode": {
    "name": "ipython",
    "version": 3
   },
   "file_extension": ".py",
   "mimetype": "text/x-python",
   "name": "python",
   "nbconvert_exporter": "python",
   "pygments_lexer": "ipython3",
   "version": "3.11.4"
  }
 },
 "nbformat": 4,
 "nbformat_minor": 5
}
