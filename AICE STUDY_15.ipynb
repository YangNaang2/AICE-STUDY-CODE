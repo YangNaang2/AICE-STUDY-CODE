{
 "cells": [
  {
   "cell_type": "code",
   "execution_count": null,
   "id": "787c9f4f-cab6-40a1-aba9-8b06ea88289c",
   "metadata": {},
   "outputs": [],
   "source": [
    "## 그리드 서치 예"
   ]
  },
  {
   "cell_type": "code",
   "execution_count": null,
   "id": "50cd22a2-ccd3-4072-8cca-c7b1dbde8992",
   "metadata": {},
   "outputs": [],
   "source": [
    "from sklearn.ensemble import RandomForestClassifier\n",
    "from sklearn.model_selection import GridSearchCV\n",
    "\n",
    "#Random Forest 분류기 생성하기\n",
    "estimator = RandomForestClassifier()\n",
    "\n",
    "#GridSearchCV 파라미터 지정하기\n",
    "param_grid = {'max_depth' :[3, 5, 10, None],\n",
    "              'n_estimators' :[10, 100, 200],\n",
    "              'max_features' :[1, 3, 5, 7],\n",
    "              'min_samples_leaf' :[1, 2, 3],\n",
    "              'min_samples_split' :[1, 2, 3]}\n",
    "\n",
    "#GridSearchCV 생성 및 수행하기\n",
    "gs_cv = GridSearchCV(estimator=estimator,\n",
    "                     param_grid=param_grid,\n",
    "                     scoring='accuracy',\n",
    "                     cv=3)\n",
    "model = gs_cv.fit(x_train, y_train)"
   ]
  },
  {
   "cell_type": "code",
   "execution_count": null,
   "id": "1ef89756-9feb-418c-b022-065a35f10ebb",
   "metadata": {},
   "outputs": [],
   "source": [
    "#최적의 파라미터 및 성능 확인하기\n",
    "print(f'Best hyperparameters : {model.best_params_}')\n",
    "print(f'Best score : {model.best_score_}')"
   ]
  },
  {
   "cell_type": "code",
   "execution_count": null,
   "id": "443b957e-a173-41bc-b12f-1e451a49550b",
   "metadata": {},
   "outputs": [],
   "source": [
    "#모델 테스트 및 성능 확인하기\n",
    "clf = model.best_estimator_\n",
    "clf.fit(x_train, y_train)\n",
    "print(f'테스트 정확도 : {clf.score(x_test, y_test)}')"
   ]
  },
  {
   "cell_type": "code",
   "execution_count": null,
   "id": "ac404f95-46a9-4162-ad08-3298f0f20324",
   "metadata": {},
   "outputs": [],
   "source": [
    "#랜덤 서치 "
   ]
  },
  {
   "cell_type": "code",
   "execution_count": 1,
   "id": "83996d94-e1aa-4671-9b8e-d44b550f6d55",
   "metadata": {},
   "outputs": [
    {
     "ename": "NameError",
     "evalue": "name 'x_train' is not defined",
     "output_type": "error",
     "traceback": [
      "\u001b[1;31m---------------------------------------------------------------------------\u001b[0m",
      "\u001b[1;31mNameError\u001b[0m                                 Traceback (most recent call last)",
      "Cell \u001b[1;32mIn[1], line 24\u001b[0m\n\u001b[0;32m     16\u001b[0m \u001b[38;5;66;03m#RandomizedSearchCV 생성 및 수행하기\u001b[39;00m\n\u001b[0;32m     17\u001b[0m rs_cv \u001b[38;5;241m=\u001b[39m RandomizedSearchCV(estimator\u001b[38;5;241m=\u001b[39mestimator,\n\u001b[0;32m     18\u001b[0m                            param_distributions\u001b[38;5;241m=\u001b[39mparam_distributions,\n\u001b[0;32m     19\u001b[0m                            n_iter\u001b[38;5;241m=\u001b[39m\u001b[38;5;241m10\u001b[39m,\n\u001b[1;32m   (...)\u001b[0m\n\u001b[0;32m     22\u001b[0m                            refit\u001b[38;5;241m=\u001b[39m\u001b[38;5;28;01mTrue\u001b[39;00m,\n\u001b[0;32m     23\u001b[0m                            cv\u001b[38;5;241m=\u001b[39m\u001b[38;5;241m3\u001b[39m)\n\u001b[1;32m---> 24\u001b[0m model \u001b[38;5;241m=\u001b[39m rs_cv\u001b[38;5;241m.\u001b[39mfit(\u001b[43mx_train\u001b[49m, y_train)\n",
      "\u001b[1;31mNameError\u001b[0m: name 'x_train' is not defined"
     ]
    }
   ],
   "source": [
    "import numpy as np\n",
    "from scipy.stats import randint\n",
    "from sklearn.ensemble import RandomForestClassifier\n",
    "from sklearn.model_selection import RandomizedSearchCV\n",
    "\n",
    "#RandomForest 분류기 생성하기\n",
    "estimator = RandomForestClassifier()\n",
    "#RandomizedSearchCV 파라미터 범위 지정하기\n",
    "param_distributions = {'max_depth':list(np.arange(3, 13, step=3)) + [None],\n",
    "                       'n_estimators':np.arange(10, 320, step=100),\n",
    "                       'max_features':randint(1,7),\n",
    "                       'criterion':['gini', 'entropy'],\n",
    "                       'min_samples_leaf':randint(1,4),\n",
    "                       'min_samples_split':np.arange(2, 8, step=2)}\n",
    "\n",
    "#RandomizedSearchCV 생성 및 수행하기\n",
    "rs_cv = RandomizedSearchCV(estimator=estimator,\n",
    "                           param_distributions=param_distributions,\n",
    "                           n_iter=10,\n",
    "                           scoring='accuracy',\n",
    "                           n_jobs=-1,\n",
    "                           refit=True,\n",
    "                           cv=3)\n",
    "model = rs_cv.fit(x_train, y_train)"
   ]
  },
  {
   "cell_type": "code",
   "execution_count": 2,
   "id": "d8d45686-7a64-4da1-bad2-38b01af9654b",
   "metadata": {},
   "outputs": [
    {
     "ename": "NameError",
     "evalue": "name 'model' is not defined",
     "output_type": "error",
     "traceback": [
      "\u001b[1;31m---------------------------------------------------------------------------\u001b[0m",
      "\u001b[1;31mNameError\u001b[0m                                 Traceback (most recent call last)",
      "Cell \u001b[1;32mIn[2], line 2\u001b[0m\n\u001b[0;32m      1\u001b[0m \u001b[38;5;66;03m#최적의 파라미터 및 성능 확인하기\u001b[39;00m\n\u001b[1;32m----> 2\u001b[0m \u001b[38;5;28mprint\u001b[39m(\u001b[38;5;124mf\u001b[39m\u001b[38;5;124m'\u001b[39m\u001b[38;5;124mBest hyperparameters : \u001b[39m\u001b[38;5;132;01m{\u001b[39;00m\u001b[43mmodel\u001b[49m\u001b[38;5;241m.\u001b[39mbest_params_\u001b[38;5;132;01m}\u001b[39;00m\u001b[38;5;124m'\u001b[39m)\n\u001b[0;32m      3\u001b[0m \u001b[38;5;28mprint\u001b[39m(\u001b[38;5;124mf\u001b[39m\u001b[38;5;124m'\u001b[39m\u001b[38;5;124mBest score : \u001b[39m\u001b[38;5;132;01m{\u001b[39;00mmodel\u001b[38;5;241m.\u001b[39mbest_score_\u001b[38;5;132;01m}\u001b[39;00m\u001b[38;5;124m'\u001b[39m)\n",
      "\u001b[1;31mNameError\u001b[0m: name 'model' is not defined"
     ]
    }
   ],
   "source": [
    "#최적의 파라미터 및 성능 확인하기\n",
    "print(f'Best hyperparameters : {model.best_params_}')\n",
    "print(f'Best score : {model.best_score_}')"
   ]
  },
  {
   "cell_type": "code",
   "execution_count": 3,
   "id": "647c4542-36a2-4dc4-9839-3b4ecc6cc2e2",
   "metadata": {},
   "outputs": [
    {
     "ename": "NameError",
     "evalue": "name 'model' is not defined",
     "output_type": "error",
     "traceback": [
      "\u001b[1;31m---------------------------------------------------------------------------\u001b[0m",
      "\u001b[1;31mNameError\u001b[0m                                 Traceback (most recent call last)",
      "Cell \u001b[1;32mIn[3], line 1\u001b[0m\n\u001b[1;32m----> 1\u001b[0m clf \u001b[38;5;241m=\u001b[39m \u001b[43mmodel\u001b[49m\u001b[38;5;241m.\u001b[39mbest_estimator_\n\u001b[0;32m      2\u001b[0m clf\u001b[38;5;241m.\u001b[39mfit(x_train, y_train)\n\u001b[0;32m      3\u001b[0m \u001b[38;5;28mprint\u001b[39m(\u001b[38;5;124mf\u001b[39m\u001b[38;5;124m'\u001b[39m\u001b[38;5;124m테스트 정확도: \u001b[39m\u001b[38;5;132;01m{\u001b[39;00mclf\u001b[38;5;241m.\u001b[39mscore(x_test,\u001b[38;5;250m \u001b[39my_test)\u001b[38;5;132;01m}\u001b[39;00m\u001b[38;5;124m'\u001b[39m)\n",
      "\u001b[1;31mNameError\u001b[0m: name 'model' is not defined"
     ]
    }
   ],
   "source": [
    "clf = model.best_estimator_\n",
    "clf.fit(x_train, y_train)\n",
    "print(f'테스트 정확도: {clf.score(x_test, y_test)}')"
   ]
  },
  {
   "cell_type": "code",
   "execution_count": null,
   "id": "893a72d0-7fea-4148-a168-002e0eba51ff",
   "metadata": {},
   "outputs": [],
   "source": []
  }
 ],
 "metadata": {
  "kernelspec": {
   "display_name": "Python 3 (ipykernel)",
   "language": "python",
   "name": "python3"
  },
  "language_info": {
   "codemirror_mode": {
    "name": "ipython",
    "version": 3
   },
   "file_extension": ".py",
   "mimetype": "text/x-python",
   "name": "python",
   "nbconvert_exporter": "python",
   "pygments_lexer": "ipython3",
   "version": "3.11.4"
  }
 },
 "nbformat": 4,
 "nbformat_minor": 5
}
