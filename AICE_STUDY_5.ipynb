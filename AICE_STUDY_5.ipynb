{
  "nbformat": 4,
  "nbformat_minor": 0,
  "metadata": {
    "colab": {
      "provenance": []
    },
    "kernelspec": {
      "name": "python3",
      "display_name": "Python 3"
    },
    "language_info": {
      "name": "python"
    }
  },
  "cells": [
    {
      "cell_type": "code",
      "execution_count": 1,
      "metadata": {
        "id": "wIOckaPUM272",
        "colab": {
          "base_uri": "https://localhost:8080/"
        },
        "outputId": "d198f0c1-f935-4a1e-f6d1-46d829b11204"
      },
      "outputs": [
        {
          "output_type": "stream",
          "name": "stdout",
          "text": [
            "x :  [1, 2, 3, 4, 5, 6, 7, 8, 9, 10]\n",
            "y :  [11, 15, 19, 23, 27, 31, 35, 39, 43, 47]\n"
          ]
        }
      ],
      "source": [
        "#라이브러리 불러오기\n",
        "import numpy as np\n",
        "import matplotlib.pyplot as plt\n",
        "\n",
        "#랜덤 시드 고정하기\n",
        "np.random.seed(2023)\n",
        "\n",
        "#x는 1~10, y=4x + 7인 학습 데이터 생성하기\n",
        "x = []\n",
        "y = []\n",
        "for i in range(1, 11):\n",
        "  x.append(i)\n",
        "  y.append(4*i + 7)\n",
        "\n",
        "#데이터 확인하기\n",
        "print('x : ', x)\n",
        "print('y : ', y)"
      ]
    },
    {
      "cell_type": "code",
      "source": [
        "#선형 회귀 라이브러리 불러오기\n",
        "from sklearn.linear_model import LinearRegression\n",
        "\n",
        "#선형 회귀 생성하기\n",
        "reg = LinearRegression()\n",
        "\n",
        "# 학습을 위해 1행 10열 구성 데이터를 10행 1열로 변경하기\n",
        "x = np.array(x).reshape(-1, 1)\n",
        "\n",
        "#데이터 확인하기\n",
        "print(\"학습 데이터 확인\")\n",
        "print('x :', x)\n",
        "print('x,shape : ', x.shape)"
      ],
      "metadata": {
        "colab": {
          "base_uri": "https://localhost:8080/"
        },
        "id": "7RptudI5CYOF",
        "outputId": "dd6fc2ce-0f28-43e1-f872-4830529720b8"
      },
      "execution_count": 2,
      "outputs": [
        {
          "output_type": "stream",
          "name": "stdout",
          "text": [
            "학습 데이터 확인\n",
            "x : [[ 1]\n",
            " [ 2]\n",
            " [ 3]\n",
            " [ 4]\n",
            " [ 5]\n",
            " [ 6]\n",
            " [ 7]\n",
            " [ 8]\n",
            " [ 9]\n",
            " [10]]\n",
            "x,shape :  (10, 1)\n"
          ]
        }
      ]
    },
    {
      "cell_type": "code",
      "source": [
        "#학습하기\n",
        "reg.fit(x,y)\n",
        "\n",
        "#식 추정 위한 기울기(coef), 절편(intercept) 확인\n",
        "print(f'''기울기 및 절편 확인 coef = {reg.coef_}, intercept={reg.intercept_} ''' )\n",
        "\n",
        "#절편과 기울기로 결과를 수동 계산하여 비교값 생성하기\n",
        "coef_intercept = x*reg.coef_[0] + reg.intercept_\n",
        "print(\"계산 결과\")\n",
        "print(coef_intercept)"
      ],
      "metadata": {
        "colab": {
          "base_uri": "https://localhost:8080/"
        },
        "id": "od53_CXxDccD",
        "outputId": "4dfd5839-64f3-44c5-e059-9449eacc071f"
      },
      "execution_count": 3,
      "outputs": [
        {
          "output_type": "stream",
          "name": "stdout",
          "text": [
            "기울기 및 절편 확인 coef = [4.], intercept=6.9999999999999964 \n",
            "계산 결과\n",
            "[[11.]\n",
            " [15.]\n",
            " [19.]\n",
            " [23.]\n",
            " [27.]\n",
            " [31.]\n",
            " [35.]\n",
            " [39.]\n",
            " [43.]\n",
            " [47.]]\n"
          ]
        }
      ]
    },
    {
      "cell_type": "code",
      "source": [
        "#scatter plot 그래프 그리기\n",
        "plt.scatter(x, y, color = 'r', s= 20)\n",
        "\n",
        "# 선 그래프 그리기\n",
        "plt.plot(x, coef_intercept, color='orange')\n",
        "\n",
        "#coef 값 그래프 내에 텍스트 삽입하기\n",
        "plt.text(7, 20, 'coef = %.0f'%reg.coef_[0], size= 12)\n",
        "\n",
        "#intercept 값 그래프 내에 텍스트 삽입하기\n",
        "plt.text(7, 18, 'intercept_ = %.0f'%reg.intercept_, size= 12)\n",
        "\n",
        "# x축(가로) label 설정하기\n",
        "plt.xlabel('x')\n",
        "\n",
        "# y축(세로) label 설정하기\n",
        "plt.ylabel('y')\n",
        "plt.show()"
      ],
      "metadata": {
        "colab": {
          "base_uri": "https://localhost:8080/",
          "height": 449
        },
        "id": "mmMb3CumGxtE",
        "outputId": "78991ef4-7153-4309-e2fa-3d9d49cc9f94"
      },
      "execution_count": 5,
      "outputs": [
        {
          "output_type": "display_data",
          "data": {
            "text/plain": [
              "<Figure size 640x480 with 1 Axes>"
            ],
            "image/png": "[encoded data removed]"
          },
          "metadata": {}
        }
      ]
    },
    {
      "cell_type": "code",
      "source": [
        "z"
      ],
      "metadata": {
        "id": "SwmG0CjiJg0_"
      },
      "execution_count": null,
      "outputs": []
    }
  ]
}