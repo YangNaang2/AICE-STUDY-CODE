{
 "cells": [
  {
   "cell_type": "code",
   "execution_count": 1,
   "id": "ad3b9ebe-cd3d-45b3-9ef1-223bc9c38871",
   "metadata": {},
   "outputs": [],
   "source": [
    "import sklearn as sk\n",
    "import pandas as pd"
   ]
  },
  {
   "cell_type": "code",
   "execution_count": null,
   "id": "fd0a8990-f366-4bb6-88f6-13886c4703e8",
   "metadata": {},
   "outputs": [],
   "source": [
    "df = pd.read_json('A0007IT.json')\n",
    "#4 \n",
    "import seaborn as sns\n",
    "sns.countplot(data=df, x='Address1')\n",
    "plt.show()\n",
    "\n",
    "df = df[df['Address1'] != '-'] #Address1에 -인 행들 삭제\n",
    "\n",
    "#5\n",
    "sns.jointplot(data=df, x='Time_Driving', y='Speed_Per_Hour')\n",
    "plt.show()\n",
    "\n",
    "#6\n",
    "df_temp = df[df['Speed_Per_Hour'] < 300]\n",
    "\n",
    "#7\n",
    "df_temp.isna().sum()\n",
    "df_na = df_temp.dropna(axis=0)\n",
    "\n",
    "#8\n",
    "df_del = df_na.drop(['Time_Departure', 'Time_Arrival'], axis=1)\n",
    "\n",
    "#9\n",
    "cols = df_del.select_dtypes('object').columns\n",
    "df_preset = pd.get_dummies(data=df_del, columns=cols)\n",
    "\n",
    "#10\n",
    "from sklearn.model_selection import train_test_split\n",
    "x = df_preset.drop('Time_Driving', axis=1)\n",
    "y = df_preset['Time_Driving']\n",
    "X_train, X_valid, y_train, y_valid = train_test_split(x,y, test_size=0.2, random_state=42)\n",
    "\n",
    "#11\n",
    "from sklearn.tree import DecisionTreeRegressor\n",
    "dt = DecisionTreeRegressor(max_depth=5, min_samples_split=3, random_state=120)\n",
    "dt.fit(X_train, y_train)\n",
    "\n",
    "#12\n",
    "from sklearn.metrics import mean_absolute_error\n",
    "y_pred = dt.predict(X_valid)\n",
    "dt_mae = mean_absolute_error(y_valid, y_pred)\n",
    "\n",
    "#13 딥러닝 모델 만들기\n",
    "model = Sequential()\n",
    "model.add(Dense(128, input_shape=(X_train.shape[1],), activation='relu'))\n",
    "model.add(Dropout(0.2))\n",
    "model.add(Dense(64, activation='relu'))\n",
    "model.add(Dense(1))\n",
    "\n",
    "model.compile(optimizer='adam', loss='mse', metrics='mse')\n",
    "history = model.fit(X_train, y_train, epochs=30, batch_size=16, validation_data=(X_valid, y_valid))\n",
    "\n",
    "#14\n",
    "plt.plot(history.history['mse'])\n",
    "plt.plot(history.history['val_mse'])\n",
    "plt.legend(['mse', 'val_mse'])\n",
    "plt.title('Model MSE')\n",
    "plt.xlabel('Epochs')\n",
    "plt.ylabel('Mse')\n"
   ]
  }
 ],
 "metadata": {
  "kernelspec": {
   "display_name": "Python 3 (ipykernel)",
   "language": "python",
   "name": "python3"
  },
  "language_info": {
   "codemirror_mode": {
    "name": "ipython",
    "version": 3
   },
   "file_extension": ".py",
   "mimetype": "text/x-python",
   "name": "python",
   "nbconvert_exporter": "python",
   "pygments_lexer": "ipython3",
   "version": "3.11.4"
  }
 },
 "nbformat": 4,
 "nbformat_minor": 5
}
